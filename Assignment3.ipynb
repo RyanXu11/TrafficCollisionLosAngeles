{
 "cells": [
  {
   "cell_type": "markdown",
   "id": "63060b55-a9ab-4040-aa30-09f0d98a3713",
   "metadata": {},
   "source": [
    "All operations were done in AI Studio (RapidMiner), steps here are only for exploring the data and some verifications.\n",
    "\n",
    "So document here is not a complete project document, details can be referred to "
   ]
  },
  {
   "cell_type": "markdown",
   "id": "ff8806de-2927-4b7e-a5de-79172c8400d1",
   "metadata": {},
   "source": [
    "# 1.1 Import Modules"
   ]
  },
  {
   "cell_type": "code",
   "execution_count": 35,
   "id": "574cdc91-5b50-4350-8013-503dd86bf710",
   "metadata": {
    "execution": {
     "iopub.execute_input": "2024-07-16T10:19:43.956113Z",
     "iopub.status.busy": "2024-07-16T10:19:43.955114Z",
     "iopub.status.idle": "2024-07-16T10:19:43.958910Z",
     "shell.execute_reply": "2024-07-16T10:19:43.958910Z",
     "shell.execute_reply.started": "2024-07-16T10:19:43.956113Z"
    }
   },
   "outputs": [],
   "source": [
    "import pandas as pd\n",
    "import numpy as np\n",
    "import matplotlib.pyplot as plt\n",
    "import seaborn as sns"
   ]
  },
  {
   "cell_type": "markdown",
   "id": "22782d1f-e93e-451d-bcd9-b8cdf2bddb4f",
   "metadata": {},
   "source": [
    "# 1.2 Read the CSV"
   ]
  },
  {
   "cell_type": "code",
   "execution_count": 36,
   "id": "2fffdc67-125a-4adb-a20b-553560624acf",
   "metadata": {
    "execution": {
     "iopub.execute_input": "2024-07-16T10:19:43.961011Z",
     "iopub.status.busy": "2024-07-16T10:19:43.959917Z",
     "iopub.status.idle": "2024-07-16T10:19:43.969260Z",
     "shell.execute_reply": "2024-07-16T10:19:43.969260Z",
     "shell.execute_reply.started": "2024-07-16T10:19:43.961011Z"
    }
   },
   "outputs": [],
   "source": [
    "columns = ['DR Number','Date Reported', 'Date Occurred', 'Time Occurred', 'Area ID', 'Reporting District', 'MO Codes', \n",
    "           'Victim Age', 'Victim Sex', 'Victim Descent', 'Premise Code', 'Location']"
   ]
  },
  {
   "cell_type": "code",
   "execution_count": 37,
   "id": "c7b04437-0ebe-40e1-a98e-3b9dd3ab49e0",
   "metadata": {
    "execution": {
     "iopub.execute_input": "2024-07-16T10:19:43.970266Z",
     "iopub.status.busy": "2024-07-16T10:19:43.970266Z",
     "iopub.status.idle": "2024-07-16T10:19:45.577125Z",
     "shell.execute_reply": "2024-07-16T10:19:45.576621Z",
     "shell.execute_reply.started": "2024-07-16T10:19:43.970266Z"
    }
   },
   "outputs": [
    {
     "name": "stdout",
     "output_type": "stream",
     "text": [
      "Index(['DR Number', 'Date Reported', 'Date Occurred', 'Time Occurred',\n",
      "       'Area ID', 'Reporting District', 'MO Codes', 'Victim Age', 'Victim Sex',\n",
      "       'Victim Descent', 'Premise Code', 'Location'],\n",
      "      dtype='object')\n",
      "Index(['DRNumber', 'DateReported', 'DateOccurred', 'TimeOccurred', 'AreaID',\n",
      "       'ReportingDistrict', 'MOCodes', 'VictimAge', 'VictimSex',\n",
      "       'VictimDescent', 'PremiseCode', 'Location'],\n",
      "      dtype='object')\n",
      "<class 'pandas.core.frame.DataFrame'>\n",
      "Index: 443066 entries, 0 to 610482\n",
      "Data columns (total 12 columns):\n",
      " #   Column             Non-Null Count   Dtype  \n",
      "---  ------             --------------   -----  \n",
      " 0   DRNumber           443066 non-null  int64  \n",
      " 1   DateReported       443066 non-null  object \n",
      " 2   DateOccurred       443066 non-null  object \n",
      " 3   TimeOccurred       443066 non-null  int64  \n",
      " 4   AreaID             443066 non-null  int64  \n",
      " 5   ReportingDistrict  443066 non-null  int64  \n",
      " 6   MOCodes            443066 non-null  object \n",
      " 7   VictimAge          443066 non-null  float64\n",
      " 8   VictimSex          443066 non-null  object \n",
      " 9   VictimDescent      443066 non-null  object \n",
      " 10  PremiseCode        443066 non-null  int32  \n",
      " 11  Location           443066 non-null  object \n",
      "dtypes: float64(1), int32(1), int64(4), object(6)\n",
      "memory usage: 42.3+ MB\n",
      "None\n"
     ]
    },
    {
     "data": {
      "text/html": [
       "<div>\n",
       "<style scoped>\n",
       "    .dataframe tbody tr th:only-of-type {\n",
       "        vertical-align: middle;\n",
       "    }\n",
       "\n",
       "    .dataframe tbody tr th {\n",
       "        vertical-align: top;\n",
       "    }\n",
       "\n",
       "    .dataframe thead th {\n",
       "        text-align: right;\n",
       "    }\n",
       "</style>\n",
       "<table border=\"1\" class=\"dataframe\">\n",
       "  <thead>\n",
       "    <tr style=\"text-align: right;\">\n",
       "      <th></th>\n",
       "      <th>DRNumber</th>\n",
       "      <th>DateReported</th>\n",
       "      <th>DateOccurred</th>\n",
       "      <th>TimeOccurred</th>\n",
       "      <th>AreaID</th>\n",
       "      <th>ReportingDistrict</th>\n",
       "      <th>MOCodes</th>\n",
       "      <th>VictimAge</th>\n",
       "      <th>VictimSex</th>\n",
       "      <th>VictimDescent</th>\n",
       "      <th>PremiseCode</th>\n",
       "      <th>Location</th>\n",
       "    </tr>\n",
       "  </thead>\n",
       "  <tbody>\n",
       "    <tr>\n",
       "      <th>0</th>\n",
       "      <td>190319651</td>\n",
       "      <td>08/24/2019</td>\n",
       "      <td>08/24/2019</td>\n",
       "      <td>450</td>\n",
       "      <td>3</td>\n",
       "      <td>356</td>\n",
       "      <td>3036 3004 3026 3101 4003</td>\n",
       "      <td>22.0</td>\n",
       "      <td>M</td>\n",
       "      <td>H</td>\n",
       "      <td>101</td>\n",
       "      <td>(34.0255, -118.3002)</td>\n",
       "    </tr>\n",
       "    <tr>\n",
       "      <th>1</th>\n",
       "      <td>190319680</td>\n",
       "      <td>08/30/2019</td>\n",
       "      <td>08/30/2019</td>\n",
       "      <td>2320</td>\n",
       "      <td>3</td>\n",
       "      <td>355</td>\n",
       "      <td>3037 3006 3028 3030 3039 3101 4003</td>\n",
       "      <td>30.0</td>\n",
       "      <td>F</td>\n",
       "      <td>H</td>\n",
       "      <td>101</td>\n",
       "      <td>(34.0256, -118.3089)</td>\n",
       "    </tr>\n",
       "    <tr>\n",
       "      <th>3</th>\n",
       "      <td>190127578</td>\n",
       "      <td>11/20/2019</td>\n",
       "      <td>11/20/2019</td>\n",
       "      <td>350</td>\n",
       "      <td>1</td>\n",
       "      <td>128</td>\n",
       "      <td>0605 3101 3401 3701 3011 3034</td>\n",
       "      <td>21.0</td>\n",
       "      <td>M</td>\n",
       "      <td>H</td>\n",
       "      <td>101</td>\n",
       "      <td>(34.0492, -118.2391)</td>\n",
       "    </tr>\n",
       "    <tr>\n",
       "      <th>4</th>\n",
       "      <td>190319695</td>\n",
       "      <td>08/30/2019</td>\n",
       "      <td>08/30/2019</td>\n",
       "      <td>2100</td>\n",
       "      <td>3</td>\n",
       "      <td>374</td>\n",
       "      <td>0605 4025 3037 3004 3025 3101</td>\n",
       "      <td>49.0</td>\n",
       "      <td>M</td>\n",
       "      <td>B</td>\n",
       "      <td>101</td>\n",
       "      <td>(34.0108, -118.3182)</td>\n",
       "    </tr>\n",
       "    <tr>\n",
       "      <th>5</th>\n",
       "      <td>190411883</td>\n",
       "      <td>07/06/2019</td>\n",
       "      <td>07/06/2019</td>\n",
       "      <td>950</td>\n",
       "      <td>4</td>\n",
       "      <td>423</td>\n",
       "      <td>3101 3401 3701 3003 3025 3029</td>\n",
       "      <td>60.0</td>\n",
       "      <td>M</td>\n",
       "      <td>H</td>\n",
       "      <td>101</td>\n",
       "      <td>(34.066, -118.2102)</td>\n",
       "    </tr>\n",
       "    <tr>\n",
       "      <th>...</th>\n",
       "      <td>...</td>\n",
       "      <td>...</td>\n",
       "      <td>...</td>\n",
       "      <td>...</td>\n",
       "      <td>...</td>\n",
       "      <td>...</td>\n",
       "      <td>...</td>\n",
       "      <td>...</td>\n",
       "      <td>...</td>\n",
       "      <td>...</td>\n",
       "      <td>...</td>\n",
       "      <td>...</td>\n",
       "    </tr>\n",
       "    <tr>\n",
       "      <th>610477</th>\n",
       "      <td>241710956</td>\n",
       "      <td>07/03/2024</td>\n",
       "      <td>07/03/2024</td>\n",
       "      <td>826</td>\n",
       "      <td>17</td>\n",
       "      <td>1761</td>\n",
       "      <td>3004 3028 4026 3033 3034 3036</td>\n",
       "      <td>52.0</td>\n",
       "      <td>M</td>\n",
       "      <td>W</td>\n",
       "      <td>101</td>\n",
       "      <td>(34.2427, -118.6065)</td>\n",
       "    </tr>\n",
       "    <tr>\n",
       "      <th>610479</th>\n",
       "      <td>241310803</td>\n",
       "      <td>06/28/2024</td>\n",
       "      <td>06/28/2024</td>\n",
       "      <td>1415</td>\n",
       "      <td>13</td>\n",
       "      <td>1327</td>\n",
       "      <td>3401 3701 0605 3011 3028 3030 3033 3036 3101 4024</td>\n",
       "      <td>99.0</td>\n",
       "      <td>M</td>\n",
       "      <td>O</td>\n",
       "      <td>101</td>\n",
       "      <td>(34.0188, -118.2432)</td>\n",
       "    </tr>\n",
       "    <tr>\n",
       "      <th>610480</th>\n",
       "      <td>242009926</td>\n",
       "      <td>07/01/2024</td>\n",
       "      <td>07/01/2024</td>\n",
       "      <td>1025</td>\n",
       "      <td>20</td>\n",
       "      <td>2027</td>\n",
       "      <td>3004 3028 3034 4027</td>\n",
       "      <td>48.0</td>\n",
       "      <td>F</td>\n",
       "      <td>A</td>\n",
       "      <td>101</td>\n",
       "      <td>(34.0618, -118.2954)</td>\n",
       "    </tr>\n",
       "    <tr>\n",
       "      <th>610481</th>\n",
       "      <td>241310895</td>\n",
       "      <td>07/01/2024</td>\n",
       "      <td>07/01/2024</td>\n",
       "      <td>1710</td>\n",
       "      <td>13</td>\n",
       "      <td>1323</td>\n",
       "      <td>0605 3024 3033 3035 3036 3101 4024 3008</td>\n",
       "      <td>23.0</td>\n",
       "      <td>M</td>\n",
       "      <td>H</td>\n",
       "      <td>101</td>\n",
       "      <td>(34.0197, -118.2571)</td>\n",
       "    </tr>\n",
       "    <tr>\n",
       "      <th>610482</th>\n",
       "      <td>240610263</td>\n",
       "      <td>07/02/2024</td>\n",
       "      <td>10/18/2022</td>\n",
       "      <td>1330</td>\n",
       "      <td>6</td>\n",
       "      <td>666</td>\n",
       "      <td>3008 3026 3029 4027</td>\n",
       "      <td>63.0</td>\n",
       "      <td>M</td>\n",
       "      <td>B</td>\n",
       "      <td>101</td>\n",
       "      <td>(34.098, -118.3303)</td>\n",
       "    </tr>\n",
       "  </tbody>\n",
       "</table>\n",
       "<p>443066 rows × 12 columns</p>\n",
       "</div>"
      ],
      "text/plain": [
       "         DRNumber DateReported DateOccurred  TimeOccurred  AreaID  \\\n",
       "0       190319651   08/24/2019   08/24/2019           450       3   \n",
       "1       190319680   08/30/2019   08/30/2019          2320       3   \n",
       "3       190127578   11/20/2019   11/20/2019           350       1   \n",
       "4       190319695   08/30/2019   08/30/2019          2100       3   \n",
       "5       190411883   07/06/2019   07/06/2019           950       4   \n",
       "...           ...          ...          ...           ...     ...   \n",
       "610477  241710956   07/03/2024   07/03/2024           826      17   \n",
       "610479  241310803   06/28/2024   06/28/2024          1415      13   \n",
       "610480  242009926   07/01/2024   07/01/2024          1025      20   \n",
       "610481  241310895   07/01/2024   07/01/2024          1710      13   \n",
       "610482  240610263   07/02/2024   10/18/2022          1330       6   \n",
       "\n",
       "        ReportingDistrict                                            MOCodes  \\\n",
       "0                     356                           3036 3004 3026 3101 4003   \n",
       "1                     355                 3037 3006 3028 3030 3039 3101 4003   \n",
       "3                     128                      0605 3101 3401 3701 3011 3034   \n",
       "4                     374                      0605 4025 3037 3004 3025 3101   \n",
       "5                     423                      3101 3401 3701 3003 3025 3029   \n",
       "...                   ...                                                ...   \n",
       "610477               1761                      3004 3028 4026 3033 3034 3036   \n",
       "610479               1327  3401 3701 0605 3011 3028 3030 3033 3036 3101 4024   \n",
       "610480               2027                                3004 3028 3034 4027   \n",
       "610481               1323            0605 3024 3033 3035 3036 3101 4024 3008   \n",
       "610482                666                                3008 3026 3029 4027   \n",
       "\n",
       "        VictimAge VictimSex VictimDescent  PremiseCode              Location  \n",
       "0            22.0         M             H          101  (34.0255, -118.3002)  \n",
       "1            30.0         F             H          101  (34.0256, -118.3089)  \n",
       "3            21.0         M             H          101  (34.0492, -118.2391)  \n",
       "4            49.0         M             B          101  (34.0108, -118.3182)  \n",
       "5            60.0         M             H          101   (34.066, -118.2102)  \n",
       "...           ...       ...           ...          ...                   ...  \n",
       "610477       52.0         M             W          101  (34.2427, -118.6065)  \n",
       "610479       99.0         M             O          101  (34.0188, -118.2432)  \n",
       "610480       48.0         F             A          101  (34.0618, -118.2954)  \n",
       "610481       23.0         M             H          101  (34.0197, -118.2571)  \n",
       "610482       63.0         M             B          101   (34.098, -118.3303)  \n",
       "\n",
       "[443066 rows x 12 columns]"
      ]
     },
     "execution_count": 37,
     "metadata": {},
     "output_type": "execute_result"
    }
   ],
   "source": [
    "df = pd.read_csv(\"Traffic_Collision_Data_from_2010_to_Present_20240711.csv\")[columns].dropna()\n",
    "print(df.columns)\n",
    "df.columns = df.columns.str.replace(' ', '')\n",
    "df['PremiseCode'] = df['PremiseCode'].astype(int)\n",
    "print(df.columns)\n",
    "print(df.info())\n",
    "df"
   ]
  },
  {
   "attachments": {
    "f22e6634-77de-4cc7-8a14-12d2edc0b958.png": {
     "image/png": "[encoded data removed]"
    }
   },
   "cell_type": "markdown",
   "id": "6ff2b381-701e-4868-a37c-9d74dcd7e5c7",
   "metadata": {},
   "source": [
    "![image.png](attachment:f22e6634-77de-4cc7-8a14-12d2edc0b958.png)"
   ]
  },
  {
   "cell_type": "markdown",
   "id": "cf20e3e0-11bd-4aef-b8b8-7aef79cbbec0",
   "metadata": {},
   "source": [
    "# 1.3 Get 'Year'"
   ]
  },
  {
   "cell_type": "code",
   "execution_count": 38,
   "id": "38d13293-34ea-447e-abe3-d80c58496296",
   "metadata": {
    "execution": {
     "iopub.execute_input": "2024-07-16T10:19:45.578135Z",
     "iopub.status.busy": "2024-07-16T10:19:45.578135Z",
     "iopub.status.idle": "2024-07-16T10:19:45.700377Z",
     "shell.execute_reply": "2024-07-16T10:19:45.700377Z",
     "shell.execute_reply.started": "2024-07-16T10:19:45.578135Z"
    }
   },
   "outputs": [],
   "source": [
    "df['DateOccurred'] = pd.to_datetime(df['DateOccurred'])\n",
    "df['DateReported'] = pd.to_datetime(df['DateReported'])\n",
    "df['ReportingDelay'] = (df['DateReported'] - df['DateOccurred']).dt.total_seconds() / 3600 / 24 # delay in hours"
   ]
  },
  {
   "cell_type": "code",
   "execution_count": 39,
   "id": "e4cf689a-def8-4b5b-a6f8-ca568f95328d",
   "metadata": {
    "execution": {
     "iopub.execute_input": "2024-07-16T10:19:45.701698Z",
     "iopub.status.busy": "2024-07-16T10:19:45.701698Z",
     "iopub.status.idle": "2024-07-16T10:19:45.718604Z",
     "shell.execute_reply": "2024-07-16T10:19:45.718099Z",
     "shell.execute_reply.started": "2024-07-16T10:19:45.701698Z"
    }
   },
   "outputs": [
    {
     "data": {
      "text/plain": [
       "count    443066.000000\n",
       "mean          2.735775\n",
       "std          41.960028\n",
       "min           0.000000\n",
       "25%           0.000000\n",
       "50%           0.000000\n",
       "75%           1.000000\n",
       "max        4019.000000\n",
       "Name: ReportingDelay, dtype: float64"
      ]
     },
     "execution_count": 39,
     "metadata": {},
     "output_type": "execute_result"
    }
   ],
   "source": [
    "df['ReportingDelay'].describe()"
   ]
  },
  {
   "cell_type": "code",
   "execution_count": 40,
   "id": "72a831ff-0449-4da3-800c-9b1d013d283b",
   "metadata": {
    "execution": {
     "iopub.execute_input": "2024-07-16T10:19:45.719615Z",
     "iopub.status.busy": "2024-07-16T10:19:45.718604Z",
     "iopub.status.idle": "2024-07-16T10:19:45.724928Z",
     "shell.execute_reply": "2024-07-16T10:19:45.724928Z",
     "shell.execute_reply.started": "2024-07-16T10:19:45.719615Z"
    }
   },
   "outputs": [
    {
     "name": "stdout",
     "output_type": "stream",
     "text": [
      "Number of same-day reports: 311961\n",
      "Percentage of same-day reports: 70.41%\n"
     ]
    }
   ],
   "source": [
    "same_day_count = (df['ReportingDelay'] == 0).sum()\n",
    "total_count = len(df)\n",
    "same_day_percentage = (same_day_count / total_count) * 100\n",
    "\n",
    "print(f\"Number of same-day reports: {same_day_count}\")\n",
    "print(f\"Percentage of same-day reports: {same_day_percentage:.2f}%\")"
   ]
  },
  {
   "cell_type": "code",
   "execution_count": 41,
   "id": "e74d4842-2642-4e1c-b1bf-a6498389d547",
   "metadata": {
    "execution": {
     "iopub.execute_input": "2024-07-16T10:19:50.159570Z",
     "iopub.status.busy": "2024-07-16T10:19:50.159570Z",
     "iopub.status.idle": "2024-07-16T10:19:50.213977Z",
     "shell.execute_reply": "2024-07-16T10:19:50.213977Z",
     "shell.execute_reply.started": "2024-07-16T10:19:50.159570Z"
    }
   },
   "outputs": [
    {
     "name": "stdout",
     "output_type": "stream",
     "text": [
      "Year\n",
      "2010     6341\n",
      "2011     7824\n",
      "2012    34096\n",
      "2013    36795\n",
      "2014    38183\n",
      "2015    42243\n",
      "2016    45924\n",
      "2017    47158\n",
      "2018    47102\n",
      "2019    48959\n",
      "2020    36249\n",
      "2021    16434\n",
      "2022    14397\n",
      "2023    14364\n",
      "2024     6997\n",
      "dtype: int64\n"
     ]
    }
   ],
   "source": [
    "df['DateOccurred'] = pd.to_datetime(df['DateOccurred'], format='%m/%d/%Y')\n",
    "\n",
    "df['Year'] = df['DateOccurred'].dt.year\n",
    "\n",
    "yearly_data_count = df.groupby('Year').size()\n",
    "\n",
    "print(yearly_data_count)"
   ]
  },
  {
   "cell_type": "markdown",
   "id": "604dc82e-954e-4722-b068-20fecdde02d8",
   "metadata": {},
   "source": [
    "# 1.3 Sampling"
   ]
  },
  {
   "cell_type": "code",
   "execution_count": 43,
   "id": "debe0ad9-8cbe-4f32-979b-43dbe0ff8d67",
   "metadata": {
    "execution": {
     "iopub.execute_input": "2024-07-16T10:20:03.974268Z",
     "iopub.status.busy": "2024-07-16T10:20:03.973263Z",
     "iopub.status.idle": "2024-07-16T10:20:03.986257Z",
     "shell.execute_reply": "2024-07-16T10:20:03.986257Z",
     "shell.execute_reply.started": "2024-07-16T10:20:03.974268Z"
    }
   },
   "outputs": [
    {
     "name": "stdout",
     "output_type": "stream",
     "text": [
      "<class 'pandas.core.frame.DataFrame'>\n",
      "Index: 14364 entries, 73927 to 610260\n",
      "Data columns (total 14 columns):\n",
      " #   Column             Non-Null Count  Dtype         \n",
      "---  ------             --------------  -----         \n",
      " 0   DRNumber           14364 non-null  int64         \n",
      " 1   DateReported       14364 non-null  datetime64[ns]\n",
      " 2   DateOccurred       14364 non-null  datetime64[ns]\n",
      " 3   TimeOccurred       14364 non-null  int64         \n",
      " 4   AreaID             14364 non-null  int64         \n",
      " 5   ReportingDistrict  14364 non-null  int64         \n",
      " 6   MOCodes            14364 non-null  object        \n",
      " 7   VictimAge          14364 non-null  float64       \n",
      " 8   VictimSex          14364 non-null  object        \n",
      " 9   VictimDescent      14364 non-null  object        \n",
      " 10  PremiseCode        14364 non-null  int32         \n",
      " 11  Location           14364 non-null  object        \n",
      " 12  ReportingDelay     14364 non-null  float64       \n",
      " 13  Year               14364 non-null  int32         \n",
      "dtypes: datetime64[ns](2), float64(2), int32(2), int64(4), object(4)\n",
      "memory usage: 1.5+ MB\n",
      "None\n"
     ]
    }
   ],
   "source": [
    "df2023 = df[(df['Year'] == 2023)]\n",
    "print(df2023.info())"
   ]
  },
  {
   "cell_type": "code",
   "execution_count": 47,
   "id": "d941c3a5-3925-4483-bd9e-6e98b581f423",
   "metadata": {
    "execution": {
     "iopub.execute_input": "2024-07-16T10:21:06.614298Z",
     "iopub.status.busy": "2024-07-16T10:21:06.614298Z",
     "iopub.status.idle": "2024-07-16T10:21:06.626263Z",
     "shell.execute_reply": "2024-07-16T10:21:06.626263Z",
     "shell.execute_reply.started": "2024-07-16T10:21:06.614298Z"
    }
   },
   "outputs": [
    {
     "name": "stdout",
     "output_type": "stream",
     "text": [
      "<class 'pandas.core.frame.DataFrame'>\n",
      "Index: 10000 entries, 607154 to 581480\n",
      "Data columns (total 14 columns):\n",
      " #   Column             Non-Null Count  Dtype         \n",
      "---  ------             --------------  -----         \n",
      " 0   DRNumber           10000 non-null  int64         \n",
      " 1   DateReported       10000 non-null  datetime64[ns]\n",
      " 2   DateOccurred       10000 non-null  datetime64[ns]\n",
      " 3   TimeOccurred       10000 non-null  int64         \n",
      " 4   AreaID             10000 non-null  int64         \n",
      " 5   ReportingDistrict  10000 non-null  int64         \n",
      " 6   MOCodes            10000 non-null  object        \n",
      " 7   VictimAge          10000 non-null  float64       \n",
      " 8   VictimSex          10000 non-null  object        \n",
      " 9   VictimDescent      10000 non-null  object        \n",
      " 10  PremiseCode        10000 non-null  int32         \n",
      " 11  Location           10000 non-null  object        \n",
      " 12  ReportingDelay     10000 non-null  float64       \n",
      " 13  Year               10000 non-null  int32         \n",
      "dtypes: datetime64[ns](2), float64(2), int32(2), int64(4), object(4)\n",
      "memory usage: 1.1+ MB\n"
     ]
    }
   ],
   "source": [
    "sample_df = df2023.sample(n=10000, replace=False, random_state=42)\n",
    "sample_df.info()"
   ]
  },
  {
   "cell_type": "code",
   "execution_count": 48,
   "id": "ed15638f-f8ca-45be-90e9-a6d52d251297",
   "metadata": {
    "execution": {
     "iopub.execute_input": "2024-07-16T10:21:09.198442Z",
     "iopub.status.busy": "2024-07-16T10:21:09.197437Z",
     "iopub.status.idle": "2024-07-16T10:21:09.207863Z",
     "shell.execute_reply": "2024-07-16T10:21:09.207863Z",
     "shell.execute_reply.started": "2024-07-16T10:21:09.198442Z"
    }
   },
   "outputs": [
    {
     "data": {
      "text/html": [
       "<div>\n",
       "<style scoped>\n",
       "    .dataframe tbody tr th:only-of-type {\n",
       "        vertical-align: middle;\n",
       "    }\n",
       "\n",
       "    .dataframe tbody tr th {\n",
       "        vertical-align: top;\n",
       "    }\n",
       "\n",
       "    .dataframe thead th {\n",
       "        text-align: right;\n",
       "    }\n",
       "</style>\n",
       "<table border=\"1\" class=\"dataframe\">\n",
       "  <thead>\n",
       "    <tr style=\"text-align: right;\">\n",
       "      <th></th>\n",
       "      <th>DRNumber</th>\n",
       "      <th>DateReported</th>\n",
       "      <th>DateOccurred</th>\n",
       "      <th>TimeOccurred</th>\n",
       "      <th>AreaID</th>\n",
       "      <th>ReportingDistrict</th>\n",
       "      <th>MOCodes</th>\n",
       "      <th>VictimAge</th>\n",
       "      <th>VictimSex</th>\n",
       "      <th>VictimDescent</th>\n",
       "      <th>PremiseCode</th>\n",
       "      <th>Location</th>\n",
       "      <th>ReportingDelay</th>\n",
       "      <th>Year</th>\n",
       "    </tr>\n",
       "  </thead>\n",
       "  <tbody>\n",
       "    <tr>\n",
       "      <th>607154</th>\n",
       "      <td>231814077</td>\n",
       "      <td>2023-07-28</td>\n",
       "      <td>2023-07-28</td>\n",
       "      <td>520</td>\n",
       "      <td>18</td>\n",
       "      <td>1834</td>\n",
       "      <td>3004 3028 3030 4025</td>\n",
       "      <td>31.0</td>\n",
       "      <td>M</td>\n",
       "      <td>H</td>\n",
       "      <td>101</td>\n",
       "      <td>(33.9398, -118.2611)</td>\n",
       "      <td>0.0</td>\n",
       "      <td>2023</td>\n",
       "    </tr>\n",
       "    <tr>\n",
       "      <th>593016</th>\n",
       "      <td>231805464</td>\n",
       "      <td>2023-01-30</td>\n",
       "      <td>2023-01-29</td>\n",
       "      <td>2130</td>\n",
       "      <td>18</td>\n",
       "      <td>1824</td>\n",
       "      <td>0605 3006 3028 3030 3033 3034 3037 3101 4013</td>\n",
       "      <td>41.0</td>\n",
       "      <td>F</td>\n",
       "      <td>H</td>\n",
       "      <td>101</td>\n",
       "      <td>(33.947, -118.2594)</td>\n",
       "      <td>1.0</td>\n",
       "      <td>2023</td>\n",
       "    </tr>\n",
       "    <tr>\n",
       "      <th>608010</th>\n",
       "      <td>231216954</td>\n",
       "      <td>2023-08-03</td>\n",
       "      <td>2023-08-02</td>\n",
       "      <td>5</td>\n",
       "      <td>12</td>\n",
       "      <td>1252</td>\n",
       "      <td>3006 3028 4012 3030</td>\n",
       "      <td>30.0</td>\n",
       "      <td>F</td>\n",
       "      <td>B</td>\n",
       "      <td>101</td>\n",
       "      <td>(33.971, -118.3223)</td>\n",
       "      <td>1.0</td>\n",
       "      <td>2023</td>\n",
       "    </tr>\n",
       "  </tbody>\n",
       "</table>\n",
       "</div>"
      ],
      "text/plain": [
       "         DRNumber DateReported DateOccurred  TimeOccurred  AreaID  \\\n",
       "607154  231814077   2023-07-28   2023-07-28           520      18   \n",
       "593016  231805464   2023-01-30   2023-01-29          2130      18   \n",
       "608010  231216954   2023-08-03   2023-08-02             5      12   \n",
       "\n",
       "        ReportingDistrict                                       MOCodes  \\\n",
       "607154               1834                           3004 3028 3030 4025   \n",
       "593016               1824  0605 3006 3028 3030 3033 3034 3037 3101 4013   \n",
       "608010               1252                           3006 3028 4012 3030   \n",
       "\n",
       "        VictimAge VictimSex VictimDescent  PremiseCode              Location  \\\n",
       "607154       31.0         M             H          101  (33.9398, -118.2611)   \n",
       "593016       41.0         F             H          101   (33.947, -118.2594)   \n",
       "608010       30.0         F             B          101   (33.971, -118.3223)   \n",
       "\n",
       "        ReportingDelay  Year  \n",
       "607154             0.0  2023  \n",
       "593016             1.0  2023  \n",
       "608010             1.0  2023  "
      ]
     },
     "execution_count": 48,
     "metadata": {},
     "output_type": "execute_result"
    }
   ],
   "source": [
    "sample_df.head(3)"
   ]
  },
  {
   "cell_type": "code",
   "execution_count": 49,
   "id": "2001ad72-d0c4-4088-9f90-11c63a59ecbb",
   "metadata": {
    "execution": {
     "iopub.execute_input": "2024-07-16T10:22:07.915386Z",
     "iopub.status.busy": "2024-07-16T10:22:07.914378Z",
     "iopub.status.idle": "2024-07-16T10:22:08.048342Z",
     "shell.execute_reply": "2024-07-16T10:22:08.048342Z",
     "shell.execute_reply.started": "2024-07-16T10:22:07.915386Z"
    }
   },
   "outputs": [
    {
     "data": {
      "image/png": "[encoded data removed]",
      "text/plain": [
       "<Figure size 1000x600 with 1 Axes>"
      ]
     },
     "metadata": {},
     "output_type": "display_data"
    }
   ],
   "source": [
    "sample_df['Month'] = sample_df['DateOccurred'].dt.month\n",
    "\n",
    "monthly_counts = sample_df['Month'].value_counts().sort_index()\n",
    "\n",
    "plt.figure(figsize=(10, 6))\n",
    "monthly_counts.plot(kind='bar')\n",
    "plt.xlabel('Month')\n",
    "plt.ylabel('Number of Accidents')\n",
    "plt.title('Accidents by Month')\n",
    "plt.xticks(rotation=0)\n",
    "plt.show()"
   ]
  },
  {
   "cell_type": "code",
   "execution_count": 51,
   "id": "ed44dc9e-dc43-4406-a99d-984ddaeebdb1",
   "metadata": {
    "execution": {
     "iopub.execute_input": "2024-07-16T10:22:41.815014Z",
     "iopub.status.busy": "2024-07-16T10:22:41.814017Z",
     "iopub.status.idle": "2024-07-16T10:22:41.999966Z",
     "shell.execute_reply": "2024-07-16T10:22:41.999458Z",
     "shell.execute_reply.started": "2024-07-16T10:22:41.815014Z"
    }
   },
   "outputs": [
    {
     "data": {
      "image/png": "[encoded data removed]",
      "text/plain": [
       "<Figure size 1000x600 with 1 Axes>"
      ]
     },
     "metadata": {},
     "output_type": "display_data"
    }
   ],
   "source": [
    "sample_df['TimeOccurred'] = sample_df['TimeOccurred'].astype(str).str.zfill(4)\n",
    "sample_df['Hour'] = sample_df['TimeOccurred'].str[:2].astype(int)\n",
    "hourly_counts = sample_df['Hour'].value_counts().sort_index()\n",
    "\n",
    "plt.figure(figsize=(10, 6))\n",
    "hourly_counts.plot(kind='bar')\n",
    "plt.xlabel('Hour of the Day')\n",
    "plt.ylabel('Number of Accidents')\n",
    "plt.title('Accidents by Hour')\n",
    "plt.xticks(rotation=0)\n",
    "plt.show()"
   ]
  },
  {
   "cell_type": "code",
   "execution_count": 92,
   "id": "9687216c-90a3-4a15-a47b-4b6248e9e0ba",
   "metadata": {
    "execution": {
     "iopub.execute_input": "2024-07-17T15:57:06.850958Z",
     "iopub.status.busy": "2024-07-17T15:57:06.850958Z",
     "iopub.status.idle": "2024-07-17T15:57:06.945635Z",
     "shell.execute_reply": "2024-07-17T15:57:06.945635Z",
     "shell.execute_reply.started": "2024-07-17T15:57:06.850958Z"
    }
   },
   "outputs": [
    {
     "name": "stdout",
     "output_type": "stream",
     "text": [
      "<class 'pandas.core.frame.DataFrame'>\n",
      "RangeIndex: 10000 entries, 0 to 9999\n",
      "Data columns (total 15 columns):\n",
      " #   Column              Non-Null Count  Dtype \n",
      "---  ------              --------------  ----- \n",
      " 0   DayOfWeek           10000 non-null  int64 \n",
      " 1   Date Reported       10000 non-null  object\n",
      " 2   Date Occurred       10000 non-null  object\n",
      " 3   Time Occurred       10000 non-null  int64 \n",
      " 4   Area ID             10000 non-null  int64 \n",
      " 5   Reporting District  10000 non-null  int64 \n",
      " 6   MO Codes            10000 non-null  object\n",
      " 7   Victim Age          10000 non-null  int64 \n",
      " 8   Victim Sex          10000 non-null  object\n",
      " 9   Victim Descent      10000 non-null  object\n",
      " 10  Premise Code        10000 non-null  int64 \n",
      " 11  DR Number           10000 non-null  int64 \n",
      " 12  MonthOccurred       10000 non-null  int64 \n",
      " 13  HourOccurred        10000 non-null  int64 \n",
      " 14  ReportingDelay      10000 non-null  int64 \n",
      "dtypes: int64(10), object(5)\n",
      "memory usage: 1.1+ MB\n",
      "None\n"
     ]
    },
    {
     "data": {
      "text/html": [
       "<div>\n",
       "<style scoped>\n",
       "    .dataframe tbody tr th:only-of-type {\n",
       "        vertical-align: middle;\n",
       "    }\n",
       "\n",
       "    .dataframe tbody tr th {\n",
       "        vertical-align: top;\n",
       "    }\n",
       "\n",
       "    .dataframe thead th {\n",
       "        text-align: right;\n",
       "    }\n",
       "</style>\n",
       "<table border=\"1\" class=\"dataframe\">\n",
       "  <thead>\n",
       "    <tr style=\"text-align: right;\">\n",
       "      <th></th>\n",
       "      <th>DayOfWeek</th>\n",
       "      <th>Date Reported</th>\n",
       "      <th>Date Occurred</th>\n",
       "      <th>Time Occurred</th>\n",
       "      <th>Area ID</th>\n",
       "      <th>Reporting District</th>\n",
       "      <th>MO Codes</th>\n",
       "      <th>Victim Age</th>\n",
       "      <th>Victim Sex</th>\n",
       "      <th>Victim Descent</th>\n",
       "      <th>Premise Code</th>\n",
       "      <th>DR Number</th>\n",
       "      <th>MonthOccurred</th>\n",
       "      <th>HourOccurred</th>\n",
       "      <th>ReportingDelay</th>\n",
       "    </tr>\n",
       "  </thead>\n",
       "  <tbody>\n",
       "    <tr>\n",
       "      <th>0</th>\n",
       "      <td>6</td>\n",
       "      <td>2023-08-25 00:00:00</td>\n",
       "      <td>2023-08-25 00:00:00</td>\n",
       "      <td>230</td>\n",
       "      <td>11</td>\n",
       "      <td>1153</td>\n",
       "      <td>3006 3030 3101 0605 3401 3701 4011 3037 3028 3033</td>\n",
       "      <td>37</td>\n",
       "      <td>M</td>\n",
       "      <td>H</td>\n",
       "      <td>101</td>\n",
       "      <td>231112652</td>\n",
       "      <td>8</td>\n",
       "      <td>2</td>\n",
       "      <td>0</td>\n",
       "    </tr>\n",
       "    <tr>\n",
       "      <th>1</th>\n",
       "      <td>5</td>\n",
       "      <td>2023-08-04 00:00:00</td>\n",
       "      <td>2023-07-13 00:00:00</td>\n",
       "      <td>750</td>\n",
       "      <td>15</td>\n",
       "      <td>1591</td>\n",
       "      <td>3004 3028 4026 3030 3033 3035</td>\n",
       "      <td>63</td>\n",
       "      <td>F</td>\n",
       "      <td>W</td>\n",
       "      <td>101</td>\n",
       "      <td>231513085</td>\n",
       "      <td>7</td>\n",
       "      <td>7</td>\n",
       "      <td>22</td>\n",
       "    </tr>\n",
       "    <tr>\n",
       "      <th>2</th>\n",
       "      <td>6</td>\n",
       "      <td>2023-08-12 00:00:00</td>\n",
       "      <td>2023-08-11 00:00:00</td>\n",
       "      <td>2235</td>\n",
       "      <td>1</td>\n",
       "      <td>142</td>\n",
       "      <td>3401 3701 3004 0605 3025 3029 3033 3036 3101 4024</td>\n",
       "      <td>61</td>\n",
       "      <td>M</td>\n",
       "      <td>H</td>\n",
       "      <td>101</td>\n",
       "      <td>230117723</td>\n",
       "      <td>8</td>\n",
       "      <td>22</td>\n",
       "      <td>1</td>\n",
       "    </tr>\n",
       "  </tbody>\n",
       "</table>\n",
       "</div>"
      ],
      "text/plain": [
       "   DayOfWeek        Date Reported        Date Occurred  Time Occurred  \\\n",
       "0          6  2023-08-25 00:00:00  2023-08-25 00:00:00            230   \n",
       "1          5  2023-08-04 00:00:00  2023-07-13 00:00:00            750   \n",
       "2          6  2023-08-12 00:00:00  2023-08-11 00:00:00           2235   \n",
       "\n",
       "   Area ID  Reporting District  \\\n",
       "0       11                1153   \n",
       "1       15                1591   \n",
       "2        1                 142   \n",
       "\n",
       "                                            MO Codes  Victim Age Victim Sex  \\\n",
       "0  3006 3030 3101 0605 3401 3701 4011 3037 3028 3033          37          M   \n",
       "1                      3004 3028 4026 3030 3033 3035          63          F   \n",
       "2  3401 3701 3004 0605 3025 3029 3033 3036 3101 4024          61          M   \n",
       "\n",
       "  Victim Descent  Premise Code  DR Number  MonthOccurred  HourOccurred  \\\n",
       "0              H           101  231112652              8             2   \n",
       "1              W           101  231513085              7             7   \n",
       "2              H           101  230117723              8            22   \n",
       "\n",
       "   ReportingDelay  \n",
       "0               0  \n",
       "1              22  \n",
       "2               1  "
      ]
     },
     "execution_count": 92,
     "metadata": {},
     "output_type": "execute_result"
    }
   ],
   "source": [
    "sample_df = pd.read_csv('Traffic_Collision_Data_2023_Sample10000B.csv')\n",
    "print(sample_df.info())\n",
    "sample_df.head(3)"
   ]
  },
  {
   "cell_type": "code",
   "execution_count": 93,
   "id": "198f5fce-db6c-4c08-87ea-3f60d74f343a",
   "metadata": {
    "execution": {
     "iopub.execute_input": "2024-07-17T15:57:15.099196Z",
     "iopub.status.busy": "2024-07-17T15:57:15.099196Z",
     "iopub.status.idle": "2024-07-17T15:57:15.274887Z",
     "shell.execute_reply": "2024-07-17T15:57:15.274887Z",
     "shell.execute_reply.started": "2024-07-17T15:57:15.099196Z"
    }
   },
   "outputs": [
    {
     "data": {
      "image/png": "[encoded data removed]",
      "text/plain": [
       "<Figure size 1000x600 with 1 Axes>"
      ]
     },
     "metadata": {},
     "output_type": "display_data"
    }
   ],
   "source": [
    "plt.figure(figsize=(10, 6))\n",
    "sample_df['DayOfWeek'].value_counts().plot(kind='bar')\n",
    "plt.xlabel('Day of Week')\n",
    "plt.ylabel('Number of Accidents')\n",
    "plt.title('Accidents by Day of Week')\n",
    "plt.xticks(rotation=0)\n",
    "plt.show()"
   ]
  },
  {
   "cell_type": "code",
   "execution_count": 94,
   "id": "ad7b1d96-4d15-4588-a9e0-2a55a654ce65",
   "metadata": {
    "execution": {
     "iopub.execute_input": "2024-07-17T15:57:18.537271Z",
     "iopub.status.busy": "2024-07-17T15:57:18.537271Z",
     "iopub.status.idle": "2024-07-17T15:57:18.541090Z",
     "shell.execute_reply": "2024-07-17T15:57:18.541090Z",
     "shell.execute_reply.started": "2024-07-17T15:57:18.537271Z"
    }
   },
   "outputs": [],
   "source": [
    "from collections import defaultdict"
   ]
  },
  {
   "cell_type": "code",
   "execution_count": 95,
   "id": "e7fc1f0c-b2cb-45b3-be70-88dc22c92aeb",
   "metadata": {
    "execution": {
     "iopub.execute_input": "2024-07-17T15:57:19.020318Z",
     "iopub.status.busy": "2024-07-17T15:57:19.019319Z",
     "iopub.status.idle": "2024-07-17T15:57:19.046414Z",
     "shell.execute_reply": "2024-07-17T15:57:19.045274Z",
     "shell.execute_reply.started": "2024-07-17T15:57:19.020318Z"
    },
    "scrolled": true
   },
   "outputs": [
    {
     "name": "stdout",
     "output_type": "stream",
     "text": [
      "MO Code 3006: 1949 occurrences\n",
      "MO Code 3030: 2389 occurrences\n",
      "MO Code 3101: 8484 occurrences\n",
      "MO Code 0605: 2790 occurrences\n",
      "MO Code 3401: 4834 occurrences\n",
      "MO Code 3701: 4822 occurrences\n",
      "MO Code 4011: 159 occurrences\n",
      "MO Code 3037: 6114 occurrences\n",
      "MO Code 3028: 4778 occurrences\n",
      "MO Code 3033: 2886 occurrences\n",
      "MO Code 3004: 4707 occurrences\n",
      "MO Code 4026: 2436 occurrences\n",
      "MO Code 3035: 2328 occurrences\n",
      "MO Code 3025: 1228 occurrences\n",
      "MO Code 3029: 2597 occurrences\n",
      "MO Code 3036: 2951 occurrences\n",
      "MO Code 4024: 2118 occurrences\n",
      "MO Code 3039: 841 occurrences\n",
      "MO Code 4002: 106 occurrences\n",
      "MO Code 3003: 1242 occurrences\n",
      "MO Code 1218: 212 occurrences\n",
      "MO Code 3005: 13 occurrences\n",
      "MO Code 3034: 3217 occurrences\n",
      "MO Code 3102: 321 occurrences\n",
      "MO Code 3024: 1116 occurrences\n",
      "MO Code 0947: 79 occurrences\n",
      "MO Code 4027: 1793 occurrences\n",
      "MO Code 4009: 166 occurrences\n",
      "MO Code 3038: 428 occurrences\n",
      "MO Code 3602: 540 occurrences\n",
      "MO Code 3026: 2579 occurrences\n",
      "MO Code 3011: 1142 occurrences\n",
      "MO Code 3012: 84 occurrences\n",
      "MO Code 3103: 108 occurrences\n",
      "MO Code 4010: 196 occurrences\n",
      "MO Code 3008: 359 occurrences\n",
      "MO Code 4012: 71 occurrences\n",
      "MO Code 4025: 873 occurrences\n",
      "MO Code 3064: 85 occurrences\n",
      "MO Code 4015: 168 occurrences\n",
      "MO Code 3009: 258 occurrences\n",
      "MO Code 4019: 162 occurrences\n",
      "MO Code 1402: 194 occurrences\n",
      "MO Code 4020: 154 occurrences\n",
      "MO Code 4013: 181 occurrences\n",
      "MO Code 3002: 257 occurrences\n",
      "MO Code 4021: 160 occurrences\n",
      "MO Code 4007: 112 occurrences\n",
      "MO Code 4017: 186 occurrences\n",
      "MO Code 3032: 409 occurrences\n",
      "MO Code 2004: 44 occurrences\n",
      "MO Code 3001: 28 occurrences\n",
      "MO Code 3027: 253 occurrences\n",
      "MO Code 4014: 104 occurrences\n",
      "MO Code 4006: 113 occurrences\n",
      "MO Code 4001: 105 occurrences\n",
      "MO Code 4004: 110 occurrences\n",
      "MO Code 3014: 23 occurrences\n",
      "MO Code 4018: 47 occurrences\n",
      "MO Code 4016: 195 occurrences\n",
      "MO Code 3013: 46 occurrences\n",
      "MO Code 1300: 5 occurrences\n",
      "MO Code 1822: 4 occurrences\n",
      "MO Code 0416: 2 occurrences\n",
      "MO Code 4008: 111 occurrences\n",
      "MO Code 3104: 59 occurrences\n",
      "MO Code 3063: 21 occurrences\n",
      "MO Code 3040: 9 occurrences\n",
      "MO Code 3007: 13 occurrences\n",
      "MO Code 3601: 38 occurrences\n",
      "MO Code 2028: 1 occurrences\n",
      "MO Code 3022: 5 occurrences\n",
      "MO Code 4003: 34 occurrences\n",
      "MO Code 3016: 10 occurrences\n",
      "MO Code 4005: 48 occurrences\n",
      "MO Code 3015: 17 occurrences\n",
      "MO Code 2021: 1 occurrences\n",
      "MO Code 3501: 18 occurrences\n",
      "MO Code 1004: 1 occurrences\n",
      "MO Code 0907: 5 occurrences\n",
      "MO Code 1025: 1 occurrences\n",
      "MO Code 2002: 1 occurrences\n",
      "MO Code 3020: 1 occurrences\n",
      "MO Code 2024: 2 occurrences\n",
      "MO Code 3018: 14 occurrences\n",
      "MO Code 1409: 1 occurrences\n",
      "MO Code 1419: 6 occurrences\n",
      "MO Code 1407: 5 occurrences\n",
      "MO Code 3062: 13 occurrences\n",
      "MO Code 0601: 1 occurrences\n",
      "MO Code 3010: 2 occurrences\n",
      "MO Code 2042: 1 occurrences\n",
      "MO Code 3019: 2 occurrences\n",
      "MO Code 0906: 3 occurrences\n",
      "MO Code 1309: 2 occurrences\n",
      "MO Code 0400: 1 occurrences\n",
      "MO Code 0325: 1 occurrences\n",
      "MO Code 3021: 1 occurrences\n",
      "MO Code 0604: 2 occurrences\n",
      "MO Code 0401: 1 occurrences\n",
      "MO Code 2303: 1 occurrences\n",
      "MO Code 0328: 1 occurrences\n",
      "MO Code 1313: 1 occurrences\n",
      "MO Code 0425: 1 occurrences\n",
      "MO Code 1816: 1 occurrences\n"
     ]
    }
   ],
   "source": [
    "mo_counts = defaultdict(int)\n",
    "\n",
    "for mo_codes in sample_df['MO Codes']:\n",
    "    if pd.notna(mo_codes):  # ensure is not NA\n",
    "        codes = mo_codes.split()  # split\n",
    "        for code in codes:\n",
    "            mo_counts[code] += 1\n",
    "            \n",
    "for code, count in mo_counts.items():\n",
    "    print(f\"MO Code {code}: {count} occurrences\")            "
   ]
  },
  {
   "cell_type": "code",
   "execution_count": 96,
   "id": "4b1408b3-0f5a-40ef-ad90-a6d6f67e03ec",
   "metadata": {
    "execution": {
     "iopub.execute_input": "2024-07-17T15:57:31.260892Z",
     "iopub.status.busy": "2024-07-17T15:57:31.259547Z",
     "iopub.status.idle": "2024-07-17T15:57:31.265827Z",
     "shell.execute_reply": "2024-07-17T15:57:31.264815Z",
     "shell.execute_reply.started": "2024-07-17T15:57:31.260892Z"
    }
   },
   "outputs": [
    {
     "name": "stdout",
     "output_type": "stream",
     "text": [
      "\n",
      "Total number of different MO Codes: 105\n"
     ]
    }
   ],
   "source": [
    "num_codes = len(mo_counts)\n",
    "print(f\"\\nTotal number of different MO Codes: {num_codes}\")"
   ]
  },
  {
   "cell_type": "code",
   "execution_count": 97,
   "id": "f5c7f174-a2f9-42af-915a-e748cd730b33",
   "metadata": {
    "execution": {
     "iopub.execute_input": "2024-07-17T15:57:34.074102Z",
     "iopub.status.busy": "2024-07-17T15:57:34.074102Z",
     "iopub.status.idle": "2024-07-17T15:57:34.422074Z",
     "shell.execute_reply": "2024-07-17T15:57:34.422074Z",
     "shell.execute_reply.started": "2024-07-17T15:57:34.074102Z"
    }
   },
   "outputs": [
    {
     "data": {
      "image/png": "[encoded data removed]",
      "text/plain": [
       "<Figure size 1000x600 with 1 Axes>"
      ]
     },
     "metadata": {},
     "output_type": "display_data"
    }
   ],
   "source": [
    "sorted_counts = {k: v for k, v in sorted(mo_counts.items(), key=lambda item: item[1], reverse=True)}\n",
    "\n",
    "codes = list(sorted_counts.keys())[:50]\n",
    "counts = list(sorted_counts.values())[:50]\n",
    "\n",
    "plt.figure(figsize=(10, 6))\n",
    "plt.bar(codes, counts, color='skyblue')\n",
    "plt.xlabel('MOCodes')\n",
    "plt.ylabel('Counts')\n",
    "plt.title('Distribution of MO Codes by Counts')\n",
    "plt.xticks(rotation=60)\n",
    "plt.tight_layout()\n",
    "plt.show()"
   ]
  },
  {
   "cell_type": "code",
   "execution_count": 98,
   "id": "137eb370-d8ed-4a08-aeba-9f95f15fac4d",
   "metadata": {
    "execution": {
     "iopub.execute_input": "2024-07-17T15:57:43.790752Z",
     "iopub.status.busy": "2024-07-17T15:57:43.789754Z",
     "iopub.status.idle": "2024-07-17T15:57:43.796736Z",
     "shell.execute_reply": "2024-07-17T15:57:43.796736Z",
     "shell.execute_reply.started": "2024-07-17T15:57:43.790752Z"
    }
   },
   "outputs": [
    {
     "data": {
      "text/plain": [
       "{'3101': 8484,\n",
       " '3037': 6114,\n",
       " '3401': 4834,\n",
       " '3701': 4822,\n",
       " '3028': 4778,\n",
       " '3004': 4707,\n",
       " '3034': 3217,\n",
       " '3036': 2951,\n",
       " '3033': 2886,\n",
       " '0605': 2790,\n",
       " '3029': 2597,\n",
       " '3026': 2579,\n",
       " '4026': 2436,\n",
       " '3030': 2389,\n",
       " '3035': 2328,\n",
       " '4024': 2118,\n",
       " '3006': 1949,\n",
       " '4027': 1793,\n",
       " '3003': 1242,\n",
       " '3025': 1228,\n",
       " '3011': 1142,\n",
       " '3024': 1116,\n",
       " '4025': 873,\n",
       " '3039': 841,\n",
       " '3602': 540,\n",
       " '3038': 428,\n",
       " '3032': 409,\n",
       " '3008': 359,\n",
       " '3102': 321,\n",
       " '3009': 258,\n",
       " '3002': 257,\n",
       " '3027': 253,\n",
       " '1218': 212,\n",
       " '4010': 196,\n",
       " '4016': 195,\n",
       " '1402': 194,\n",
       " '4017': 186,\n",
       " '4013': 181,\n",
       " '4015': 168,\n",
       " '4009': 166,\n",
       " '4019': 162,\n",
       " '4021': 160,\n",
       " '4011': 159,\n",
       " '4020': 154,\n",
       " '4006': 113,\n",
       " '4007': 112,\n",
       " '4008': 111,\n",
       " '4004': 110,\n",
       " '3103': 108,\n",
       " '4002': 106,\n",
       " '4001': 105,\n",
       " '4014': 104,\n",
       " '3064': 85,\n",
       " '3012': 84,\n",
       " '0947': 79,\n",
       " '4012': 71,\n",
       " '3104': 59,\n",
       " '4005': 48,\n",
       " '4018': 47,\n",
       " '3013': 46,\n",
       " '2004': 44,\n",
       " '3601': 38,\n",
       " '4003': 34,\n",
       " '3001': 28,\n",
       " '3014': 23,\n",
       " '3063': 21,\n",
       " '3501': 18,\n",
       " '3015': 17,\n",
       " '3018': 14,\n",
       " '3005': 13,\n",
       " '3007': 13,\n",
       " '3062': 13,\n",
       " '3016': 10,\n",
       " '3040': 9,\n",
       " '1419': 6,\n",
       " '1300': 5,\n",
       " '3022': 5,\n",
       " '0907': 5,\n",
       " '1407': 5,\n",
       " '1822': 4,\n",
       " '0906': 3,\n",
       " '0416': 2,\n",
       " '2024': 2,\n",
       " '3010': 2,\n",
       " '3019': 2,\n",
       " '1309': 2,\n",
       " '0604': 2,\n",
       " '2028': 1,\n",
       " '2021': 1,\n",
       " '1004': 1,\n",
       " '1025': 1,\n",
       " '2002': 1,\n",
       " '3020': 1,\n",
       " '1409': 1,\n",
       " '0601': 1,\n",
       " '2042': 1,\n",
       " '0400': 1,\n",
       " '0325': 1,\n",
       " '3021': 1,\n",
       " '0401': 1,\n",
       " '2303': 1,\n",
       " '0328': 1,\n",
       " '1313': 1,\n",
       " '0425': 1,\n",
       " '1816': 1}"
      ]
     },
     "execution_count": 98,
     "metadata": {},
     "output_type": "execute_result"
    }
   ],
   "source": [
    "sorted_counts"
   ]
  },
  {
   "cell_type": "code",
   "execution_count": 99,
   "id": "77d507bd-0140-4239-8dbb-94bea81cef9b",
   "metadata": {
    "execution": {
     "iopub.execute_input": "2024-07-17T17:25:08.835713Z",
     "iopub.status.busy": "2024-07-17T17:25:08.833556Z",
     "iopub.status.idle": "2024-07-17T17:25:09.076068Z",
     "shell.execute_reply": "2024-07-17T17:25:09.076068Z",
     "shell.execute_reply.started": "2024-07-17T17:25:08.835713Z"
    }
   },
   "outputs": [
    {
     "data": {
      "image/png": "[encoded data removed]",
      "text/plain": [
       "<Figure size 1000x600 with 1 Axes>"
      ]
     },
     "metadata": {},
     "output_type": "display_data"
    }
   ],
   "source": [
    "df_filtered = sample_df.dropna(subset=['Victim Age', 'Victim Sex'])\n",
    "\n",
    "plt.figure(figsize=(10, 6))\n",
    "plt.hist(df_filtered['Victim Age'], bins=20, edgecolor='black')\n",
    "plt.xlabel('Victim Age')\n",
    "plt.ylabel('Frequency')\n",
    "plt.title('Distribution of VictimAge')\n",
    "plt.grid(True)\n",
    "plt.show()"
   ]
  },
  {
   "cell_type": "code",
   "execution_count": 100,
   "id": "1007e465-9801-4564-88dc-127eae0c6d5f",
   "metadata": {
    "execution": {
     "iopub.execute_input": "2024-07-17T17:25:15.615068Z",
     "iopub.status.busy": "2024-07-17T17:25:15.614069Z",
     "iopub.status.idle": "2024-07-17T17:25:15.757407Z",
     "shell.execute_reply": "2024-07-17T17:25:15.757407Z",
     "shell.execute_reply.started": "2024-07-17T17:25:15.615068Z"
    }
   },
   "outputs": [
    {
     "data": {
      "image/png": "[encoded data removed]",
      "text/plain": [
       "<Figure size 600x400 with 1 Axes>"
      ]
     },
     "metadata": {},
     "output_type": "display_data"
    }
   ],
   "source": [
    "plt.figure(figsize=(6, 4))\n",
    "df_filtered['Victim Sex'].value_counts().plot(kind='bar', color='skyblue')\n",
    "plt.xlabel('Victim Sex')\n",
    "plt.ylabel('Count')\n",
    "plt.title('Distribution of VictimSex')\n",
    "plt.xticks(rotation=0)\n",
    "plt.tight_layout()\n",
    "plt.show()"
   ]
  },
  {
   "cell_type": "code",
   "execution_count": 101,
   "id": "ac5237ef-e3f3-43f4-8a34-0019cd7dd150",
   "metadata": {
    "execution": {
     "iopub.execute_input": "2024-07-17T17:25:21.977341Z",
     "iopub.status.busy": "2024-07-17T17:25:21.976287Z",
     "iopub.status.idle": "2024-07-17T17:25:21.984132Z",
     "shell.execute_reply": "2024-07-17T17:25:21.984132Z",
     "shell.execute_reply.started": "2024-07-17T17:25:21.977341Z"
    }
   },
   "outputs": [
    {
     "data": {
      "text/plain": [
       "Premise Code\n",
       "101    9430\n",
       "108     263\n",
       "102     195\n",
       "103      35\n",
       "104      24\n",
       "110      14\n",
       "105       7\n",
       "710       5\n",
       "501       5\n",
       "301       4\n",
       "116       4\n",
       "121       4\n",
       "212       3\n",
       "126       2\n",
       "406       1\n",
       "215       1\n",
       "109       1\n",
       "107       1\n",
       "707       1\n",
       "Name: count, dtype: int64"
      ]
     },
     "execution_count": 101,
     "metadata": {},
     "output_type": "execute_result"
    }
   ],
   "source": [
    "sample_df[\"Premise Code\"].value_counts()"
   ]
  },
  {
   "cell_type": "code",
   "execution_count": 62,
   "id": "dda53cc7-70ce-4b92-88c5-6ecd700e8300",
   "metadata": {
    "execution": {
     "iopub.execute_input": "2024-07-16T10:36:55.437451Z",
     "iopub.status.busy": "2024-07-16T10:36:55.437451Z",
     "iopub.status.idle": "2024-07-16T10:36:55.587249Z",
     "shell.execute_reply": "2024-07-16T10:36:55.587249Z",
     "shell.execute_reply.started": "2024-07-16T10:36:55.437451Z"
    }
   },
   "outputs": [
    {
     "data": {
      "image/png": "[encoded data removed]",
      "text/plain": [
       "<Figure size 1000x600 with 1 Axes>"
      ]
     },
     "metadata": {},
     "output_type": "display_data"
    }
   ],
   "source": [
    "df_filtered = sample_df.dropna(subset=['PremiseCode'])\n",
    "top_10_premises = df_filtered['PremiseCode'].value_counts().nlargest(10)\n",
    "\n",
    "plt.figure(figsize=(10, 6))\n",
    "top_10_premises.plot(kind='bar', color='skyblue')\n",
    "plt.xlabel('PremiseCode')\n",
    "plt.ylabel('Count')\n",
    "plt.title('Top 10 Premise Codes Distribution')\n",
    "plt.xticks(rotation=45)\n",
    "plt.tight_layout()\n",
    "plt.show()"
   ]
  },
  {
   "cell_type": "code",
   "execution_count": 64,
   "id": "f72dc35a-6cbf-4722-a8e2-539a08c0abfe",
   "metadata": {
    "execution": {
     "iopub.execute_input": "2024-07-16T10:37:09.878519Z",
     "iopub.status.busy": "2024-07-16T10:37:09.877509Z",
     "iopub.status.idle": "2024-07-16T10:37:10.084026Z",
     "shell.execute_reply": "2024-07-16T10:37:10.084026Z",
     "shell.execute_reply.started": "2024-07-16T10:37:09.878519Z"
    }
   },
   "outputs": [
    {
     "data": {
      "image/png": "[encoded data removed]",
      "text/plain": [
       "<Figure size 1000x600 with 1 Axes>"
      ]
     },
     "metadata": {},
     "output_type": "display_data"
    }
   ],
   "source": [
    "df_filtered = sample_df.dropna(subset=['AreaID'])\n",
    "\n",
    "area_id_counts = df_filtered['AreaID'].value_counts()\n",
    "\n",
    "plt.figure(figsize=(10, 6))\n",
    "area_id_counts.plot(kind='bar', color='skyblue')\n",
    "plt.xlabel('AreaID')\n",
    "plt.ylabel('Count')\n",
    "plt.title('Area ID Distribution')\n",
    "plt.xticks(rotation=45)\n",
    "plt.tight_layout()\n",
    "plt.show()"
   ]
  },
  {
   "cell_type": "code",
   "execution_count": 68,
   "id": "3befda2e-b436-4c8f-b30a-84c6126d7f29",
   "metadata": {
    "execution": {
     "iopub.execute_input": "2024-07-16T10:43:45.179077Z",
     "iopub.status.busy": "2024-07-16T10:43:45.179077Z",
     "iopub.status.idle": "2024-07-16T10:43:45.184892Z",
     "shell.execute_reply": "2024-07-16T10:43:45.184892Z",
     "shell.execute_reply.started": "2024-07-16T10:43:45.179077Z"
    }
   },
   "outputs": [
    {
     "data": {
      "text/plain": [
       "AreaID\n",
       "12    826\n",
       "13    647\n",
       "18    606\n",
       "3     584\n",
       "1     563\n",
       "20    477\n",
       "10    474\n",
       "19    466\n",
       "17    465\n",
       "7     452\n",
       "2     449\n",
       "15    438\n",
       "9     431\n",
       "14    420\n",
       "11    418\n",
       "6     408\n",
       "16    399\n",
       "8     395\n",
       "4     388\n",
       "5     383\n",
       "21    311\n",
       "Name: count, dtype: int64"
      ]
     },
     "execution_count": 68,
     "metadata": {},
     "output_type": "execute_result"
    }
   ],
   "source": [
    "area_id_counts"
   ]
  },
  {
   "cell_type": "code",
   "execution_count": 70,
   "id": "4cadf6ae-16e8-4d54-8c4d-3b9515e31f09",
   "metadata": {
    "execution": {
     "iopub.execute_input": "2024-07-16T10:46:10.829390Z",
     "iopub.status.busy": "2024-07-16T10:46:10.829390Z",
     "iopub.status.idle": "2024-07-16T10:46:11.141765Z",
     "shell.execute_reply": "2024-07-16T10:46:11.141765Z",
     "shell.execute_reply.started": "2024-07-16T10:46:10.829390Z"
    }
   },
   "outputs": [
    {
     "data": {
      "image/png": "[encoded data removed]",
      "text/plain": [
       "<Figure size 1000x600 with 1 Axes>"
      ]
     },
     "metadata": {},
     "output_type": "display_data"
    }
   ],
   "source": [
    "district_counts = sample_df['ReportingDistrict'].value_counts().sort_values(ascending=False)\n",
    "\n",
    "top_30_districts = district_counts.head(50)\n",
    "\n",
    "plt.figure(figsize=(10, 6))\n",
    "top_30_districts.plot(kind='bar', color='skyblue')\n",
    "plt.title('Top 50 Reporting Districts')\n",
    "plt.xlabel('Reporting District')\n",
    "plt.ylabel('Count')\n",
    "plt.xticks(rotation=45)\n",
    "plt.grid(axis='y', linestyle='--', alpha=0.7)\n",
    "plt.tight_layout()\n",
    "plt.show()"
   ]
  },
  {
   "cell_type": "code",
   "execution_count": 71,
   "id": "0ff8423a-db1a-4eb8-b409-491570c03fc0",
   "metadata": {
    "execution": {
     "iopub.execute_input": "2024-07-16T10:46:14.529888Z",
     "iopub.status.busy": "2024-07-16T10:46:14.529888Z",
     "iopub.status.idle": "2024-07-16T10:46:14.534105Z",
     "shell.execute_reply": "2024-07-16T10:46:14.534105Z",
     "shell.execute_reply.started": "2024-07-16T10:46:14.529888Z"
    }
   },
   "outputs": [
    {
     "data": {
      "text/plain": [
       "1106"
      ]
     },
     "execution_count": 71,
     "metadata": {},
     "output_type": "execute_result"
    }
   ],
   "source": [
    "district_counts.count()"
   ]
  },
  {
   "cell_type": "code",
   "execution_count": 72,
   "id": "32c8bca9-cd6d-42a2-86c1-65fb0517fba5",
   "metadata": {
    "execution": {
     "iopub.execute_input": "2024-07-16T10:46:31.667992Z",
     "iopub.status.busy": "2024-07-16T10:46:31.667001Z",
     "iopub.status.idle": "2024-07-16T10:46:31.672686Z",
     "shell.execute_reply": "2024-07-16T10:46:31.672686Z",
     "shell.execute_reply.started": "2024-07-16T10:46:31.667992Z"
    }
   },
   "outputs": [
    {
     "data": {
      "text/plain": [
       "ReportingDistrict\n",
       "111     48\n",
       "1269    45\n",
       "1309    44\n",
       "1822    42\n",
       "1249    41\n",
       "1842    41\n",
       "1313    41\n",
       "1801    40\n",
       "1243    38\n",
       "1218    34\n",
       "1215    34\n",
       "1245    34\n",
       "1494    33\n",
       "646     33\n",
       "1317    33\n",
       "237     32\n",
       "1256    31\n",
       "1239    31\n",
       "192     31\n",
       "1802    31\n",
       "1267    31\n",
       "645     30\n",
       "1211    30\n",
       "1259    30\n",
       "914     30\n",
       "1824    29\n",
       "1263    28\n",
       "1008    28\n",
       "1383    28\n",
       "926     28\n",
       "1841    28\n",
       "1846    27\n",
       "1821    27\n",
       "1794    27\n",
       "1341    27\n",
       "182     27\n",
       "636     26\n",
       "1351    26\n",
       "666     26\n",
       "1303    26\n",
       "1241    26\n",
       "1258    25\n",
       "765     24\n",
       "1781    24\n",
       "1981    24\n",
       "1985    24\n",
       "923     24\n",
       "1321    24\n",
       "1213    24\n",
       "1025    24\n",
       "Name: count, dtype: int64"
      ]
     },
     "execution_count": 72,
     "metadata": {},
     "output_type": "execute_result"
    }
   ],
   "source": [
    "top_30_districts"
   ]
  },
  {
   "cell_type": "code",
   "execution_count": 67,
   "id": "9b12ca56-a30e-4c89-a568-2d42e4faadec",
   "metadata": {
    "execution": {
     "iopub.execute_input": "2024-07-16T10:37:33.916615Z",
     "iopub.status.busy": "2024-07-16T10:37:33.916615Z",
     "iopub.status.idle": "2024-07-16T10:37:34.081664Z",
     "shell.execute_reply": "2024-07-16T10:37:34.081664Z",
     "shell.execute_reply.started": "2024-07-16T10:37:33.916615Z"
    }
   },
   "outputs": [
    {
     "data": {
      "image/png": "[encoded data removed]",
      "text/plain": [
       "<Figure size 1000x600 with 1 Axes>"
      ]
     },
     "metadata": {},
     "output_type": "display_data"
    }
   ],
   "source": [
    "descent_counts = sample_df['VictimDescent'].value_counts()\n",
    "\n",
    "plt.figure(figsize=(10, 6))\n",
    "descent_counts.plot(kind='bar', color='skyblue')\n",
    "plt.title('Victim Descent Distribution')\n",
    "plt.xlabel('Victim Descent')\n",
    "plt.ylabel('Count')\n",
    "plt.xticks(rotation=45)\n",
    "plt.grid(axis='y', linestyle='--', alpha=0.7)\n",
    "plt.tight_layout()\n",
    "plt.show()"
   ]
  },
  {
   "cell_type": "markdown",
   "id": "d54cb88d-8daa-4225-a3a5-721347ec08b9",
   "metadata": {},
   "source": [
    "<table width=\"100%\"><tr><td bgcolor=#00BFF></td></tr></table>"
   ]
  },
  {
   "cell_type": "code",
   "execution_count": 19,
   "id": "5519ee26-59c3-4268-abb2-dc36497df640",
   "metadata": {
    "execution": {
     "iopub.execute_input": "2024-07-16T10:11:30.417493Z",
     "iopub.status.busy": "2024-07-16T10:11:30.417493Z",
     "iopub.status.idle": "2024-07-16T10:11:30.428130Z",
     "shell.execute_reply": "2024-07-16T10:11:30.428130Z",
     "shell.execute_reply.started": "2024-07-16T10:11:30.417493Z"
    }
   },
   "outputs": [
    {
     "data": {
      "text/html": [
       "<div>\n",
       "<style scoped>\n",
       "    .dataframe tbody tr th:only-of-type {\n",
       "        vertical-align: middle;\n",
       "    }\n",
       "\n",
       "    .dataframe tbody tr th {\n",
       "        vertical-align: top;\n",
       "    }\n",
       "\n",
       "    .dataframe thead th {\n",
       "        text-align: right;\n",
       "    }\n",
       "</style>\n",
       "<table border=\"1\" class=\"dataframe\">\n",
       "  <thead>\n",
       "    <tr style=\"text-align: right;\">\n",
       "      <th></th>\n",
       "      <th>DRNumber</th>\n",
       "      <th>DateReported</th>\n",
       "      <th>DateOccurred</th>\n",
       "      <th>TimeOccurred</th>\n",
       "      <th>AreaID</th>\n",
       "      <th>ReportingDistrict</th>\n",
       "      <th>MOCodes</th>\n",
       "      <th>VictimAge</th>\n",
       "      <th>VictimSex</th>\n",
       "      <th>VictimDescent</th>\n",
       "      <th>PremiseCode</th>\n",
       "      <th>Location</th>\n",
       "      <th>reporting_delay</th>\n",
       "      <th>delay_days</th>\n",
       "    </tr>\n",
       "  </thead>\n",
       "  <tbody>\n",
       "    <tr>\n",
       "      <th>0</th>\n",
       "      <td>190319651</td>\n",
       "      <td>2019-08-24</td>\n",
       "      <td>2019-08-24</td>\n",
       "      <td>450</td>\n",
       "      <td>3</td>\n",
       "      <td>356</td>\n",
       "      <td>3036 3004 3026 3101 4003</td>\n",
       "      <td>22.0</td>\n",
       "      <td>M</td>\n",
       "      <td>H</td>\n",
       "      <td>101</td>\n",
       "      <td>(34.0255, -118.3002)</td>\n",
       "      <td>0.0</td>\n",
       "      <td>0.0</td>\n",
       "    </tr>\n",
       "    <tr>\n",
       "      <th>1</th>\n",
       "      <td>190319680</td>\n",
       "      <td>2019-08-30</td>\n",
       "      <td>2019-08-30</td>\n",
       "      <td>2320</td>\n",
       "      <td>3</td>\n",
       "      <td>355</td>\n",
       "      <td>3037 3006 3028 3030 3039 3101 4003</td>\n",
       "      <td>30.0</td>\n",
       "      <td>F</td>\n",
       "      <td>H</td>\n",
       "      <td>101</td>\n",
       "      <td>(34.0256, -118.3089)</td>\n",
       "      <td>0.0</td>\n",
       "      <td>0.0</td>\n",
       "    </tr>\n",
       "  </tbody>\n",
       "</table>\n",
       "</div>"
      ],
      "text/plain": [
       "    DRNumber DateReported DateOccurred  TimeOccurred  AreaID  \\\n",
       "0  190319651   2019-08-24   2019-08-24           450       3   \n",
       "1  190319680   2019-08-30   2019-08-30          2320       3   \n",
       "\n",
       "   ReportingDistrict                             MOCodes  VictimAge VictimSex  \\\n",
       "0                356            3036 3004 3026 3101 4003       22.0         M   \n",
       "1                355  3037 3006 3028 3030 3039 3101 4003       30.0         F   \n",
       "\n",
       "  VictimDescent  PremiseCode              Location  reporting_delay  \\\n",
       "0             H          101  (34.0255, -118.3002)              0.0   \n",
       "1             H          101  (34.0256, -118.3089)              0.0   \n",
       "\n",
       "   delay_days  \n",
       "0         0.0  \n",
       "1         0.0  "
      ]
     },
     "execution_count": 19,
     "metadata": {},
     "output_type": "execute_result"
    }
   ],
   "source": [
    "def categorize_collision(mo_codes):\n",
    "    if '3024' in mo_codes or '3025' in mo_codes:\n",
    "        return 'Injury'\n",
    "    elif '3029' in mo_codes or '3030' in mo_codes:\n",
    "        return 'Hit and Run'\n",
    "    elif '3039' in mo_codes:\n",
    "        return 'DUI'\n",
    "    elif '3028' in mo_codes:\n",
    "        return 'Non Injury'\n",
    "    else:\n",
    "        return 'Other'\n",
    "\n",
    "sample_df['collision_category'] = sample_df['MOCodes'].apply(categorize_collision)"
   ]
  },
  {
   "cell_type": "code",
   "execution_count": 20,
   "id": "60325a8b-de22-4816-9d32-2601f1082fae",
   "metadata": {
    "execution": {
     "iopub.execute_input": "2024-07-16T10:11:35.860429Z",
     "iopub.status.busy": "2024-07-16T10:11:35.860429Z",
     "iopub.status.idle": "2024-07-16T10:11:35.865943Z",
     "shell.execute_reply": "2024-07-16T10:11:35.865943Z",
     "shell.execute_reply.started": "2024-07-16T10:11:35.860429Z"
    }
   },
   "outputs": [
    {
     "data": {
      "text/plain": [
       "Index(['DRNumber', 'DateReported', 'DateOccurred', 'TimeOccurred', 'AreaID',\n",
       "       'ReportingDistrict', 'MOCodes', 'VictimAge', 'VictimSex',\n",
       "       'VictimDescent', 'PremiseCode', 'Location', 'reporting_delay',\n",
       "       'delay_days'],\n",
       "      dtype='object')"
      ]
     },
     "execution_count": 20,
     "metadata": {},
     "output_type": "execute_result"
    }
   ],
   "source": [
    "df.columns"
   ]
  },
  {
   "cell_type": "code",
   "execution_count": 22,
   "id": "6e320e69-0231-4c39-9502-757f87c71c96",
   "metadata": {
    "execution": {
     "iopub.execute_input": "2024-07-15T21:51:42.633554Z",
     "iopub.status.busy": "2024-07-15T21:51:42.633554Z",
     "iopub.status.idle": "2024-07-15T21:51:42.638414Z",
     "shell.execute_reply": "2024-07-15T21:51:42.637402Z",
     "shell.execute_reply.started": "2024-07-15T21:51:42.633554Z"
    }
   },
   "outputs": [],
   "source": [
    "columns2 = ['DRNumber', 'AreaID', 'ReportingDistrict', \n",
    "           'MOCodes', 'VictimAge', 'VictimSex', 'VictimDescent',\n",
    "           'PremiseCode', 'Year', 'Month', 'Hour']"
   ]
  },
  {
   "cell_type": "code",
   "execution_count": 23,
   "id": "241f23c5-812d-4226-8568-5318ec907b67",
   "metadata": {
    "execution": {
     "iopub.execute_input": "2024-07-15T21:51:43.427938Z",
     "iopub.status.busy": "2024-07-15T21:51:43.426848Z",
     "iopub.status.idle": "2024-07-15T21:51:43.474191Z",
     "shell.execute_reply": "2024-07-15T21:51:43.474191Z",
     "shell.execute_reply.started": "2024-07-15T21:51:43.426848Z"
    }
   },
   "outputs": [
    {
     "name": "stdout",
     "output_type": "stream",
     "text": [
      "<class 'pandas.core.frame.DataFrame'>\n",
      "Index: 14364 entries, 73927 to 610260\n",
      "Data columns (total 11 columns):\n",
      " #   Column             Non-Null Count  Dtype  \n",
      "---  ------             --------------  -----  \n",
      " 0   DRNumber           14364 non-null  int64  \n",
      " 1   AreaID             14364 non-null  int64  \n",
      " 2   ReportingDistrict  14364 non-null  int64  \n",
      " 3   MOCodes            14364 non-null  object \n",
      " 4   VictimAge          14364 non-null  float64\n",
      " 5   VictimSex          14364 non-null  object \n",
      " 6   VictimDescent      14364 non-null  object \n",
      " 7   PremiseCode        14364 non-null  int32  \n",
      " 8   Year               14364 non-null  int32  \n",
      " 9   Month              14364 non-null  int32  \n",
      " 10  Hour               14364 non-null  int32  \n",
      "dtypes: float64(1), int32(4), int64(3), object(3)\n",
      "memory usage: 1.1+ MB\n",
      "None\n",
      "<class 'pandas.core.frame.DataFrame'>\n",
      "Index: 14364 entries, 73927 to 610260\n",
      "Data columns (total 11 columns):\n",
      " #   Column             Non-Null Count  Dtype  \n",
      "---  ------             --------------  -----  \n",
      " 0   DRNumber           14364 non-null  int64  \n",
      " 1   AreaID             14364 non-null  int64  \n",
      " 2   ReportingDistrict  14364 non-null  int64  \n",
      " 3   MOCodes            14364 non-null  object \n",
      " 4   VictimAge          14364 non-null  float64\n",
      " 5   VictimSex          14364 non-null  object \n",
      " 6   VictimDescent      14364 non-null  object \n",
      " 7   PremiseCode        14364 non-null  int32  \n",
      " 8   Year               14364 non-null  int32  \n",
      " 9   Month              14364 non-null  int32  \n",
      " 10  Hour               14364 non-null  int32  \n",
      "dtypes: float64(1), int32(4), int64(3), object(3)\n",
      "memory usage: 1.1+ MB\n",
      "None\n"
     ]
    }
   ],
   "source": []
  },
  {
   "cell_type": "code",
   "execution_count": 24,
   "id": "5851e83b-402e-4f08-80f5-b5afbd094c1e",
   "metadata": {
    "execution": {
     "iopub.execute_input": "2024-07-15T21:51:45.345758Z",
     "iopub.status.busy": "2024-07-15T21:51:45.344757Z",
     "iopub.status.idle": "2024-07-15T21:51:45.356108Z",
     "shell.execute_reply": "2024-07-15T21:51:45.356108Z",
     "shell.execute_reply.started": "2024-07-15T21:51:45.345758Z"
    }
   },
   "outputs": [
    {
     "data": {
      "text/html": [
       "<div>\n",
       "<style scoped>\n",
       "    .dataframe tbody tr th:only-of-type {\n",
       "        vertical-align: middle;\n",
       "    }\n",
       "\n",
       "    .dataframe tbody tr th {\n",
       "        vertical-align: top;\n",
       "    }\n",
       "\n",
       "    .dataframe thead th {\n",
       "        text-align: right;\n",
       "    }\n",
       "</style>\n",
       "<table border=\"1\" class=\"dataframe\">\n",
       "  <thead>\n",
       "    <tr style=\"text-align: right;\">\n",
       "      <th></th>\n",
       "      <th>DRNumber</th>\n",
       "      <th>AreaID</th>\n",
       "      <th>ReportingDistrict</th>\n",
       "      <th>MOCodes</th>\n",
       "      <th>VictimAge</th>\n",
       "      <th>VictimSex</th>\n",
       "      <th>VictimDescent</th>\n",
       "      <th>PremiseCode</th>\n",
       "      <th>Year</th>\n",
       "      <th>Month</th>\n",
       "      <th>Hour</th>\n",
       "    </tr>\n",
       "  </thead>\n",
       "  <tbody>\n",
       "    <tr>\n",
       "      <th>73927</th>\n",
       "      <td>231112652</td>\n",
       "      <td>11</td>\n",
       "      <td>1153</td>\n",
       "      <td>3006 3030 3101 0605 3401 3701 4011 3037 3028 3033</td>\n",
       "      <td>37.0</td>\n",
       "      <td>M</td>\n",
       "      <td>H</td>\n",
       "      <td>101</td>\n",
       "      <td>2023</td>\n",
       "      <td>8</td>\n",
       "      <td>2</td>\n",
       "    </tr>\n",
       "    <tr>\n",
       "      <th>73977</th>\n",
       "      <td>231513085</td>\n",
       "      <td>15</td>\n",
       "      <td>1591</td>\n",
       "      <td>3004 3028 4026 3030 3033 3035</td>\n",
       "      <td>63.0</td>\n",
       "      <td>F</td>\n",
       "      <td>W</td>\n",
       "      <td>101</td>\n",
       "      <td>2023</td>\n",
       "      <td>7</td>\n",
       "      <td>7</td>\n",
       "    </tr>\n",
       "    <tr>\n",
       "      <th>76184</th>\n",
       "      <td>230117723</td>\n",
       "      <td>1</td>\n",
       "      <td>142</td>\n",
       "      <td>3401 3701 3004 0605 3025 3029 3033 3036 3101 4024</td>\n",
       "      <td>61.0</td>\n",
       "      <td>M</td>\n",
       "      <td>H</td>\n",
       "      <td>101</td>\n",
       "      <td>2023</td>\n",
       "      <td>8</td>\n",
       "      <td>22</td>\n",
       "    </tr>\n",
       "    <tr>\n",
       "      <th>76244</th>\n",
       "      <td>230215058</td>\n",
       "      <td>2</td>\n",
       "      <td>246</td>\n",
       "      <td>3006 0605 3028 3033 3037 3039 3101 3401 3701 4002</td>\n",
       "      <td>40.0</td>\n",
       "      <td>M</td>\n",
       "      <td>H</td>\n",
       "      <td>101</td>\n",
       "      <td>2023</td>\n",
       "      <td>8</td>\n",
       "      <td>22</td>\n",
       "    </tr>\n",
       "    <tr>\n",
       "      <th>76274</th>\n",
       "      <td>230314669</td>\n",
       "      <td>3</td>\n",
       "      <td>396</td>\n",
       "      <td>4025 3025 3029 3003</td>\n",
       "      <td>24.0</td>\n",
       "      <td>F</td>\n",
       "      <td>H</td>\n",
       "      <td>101</td>\n",
       "      <td>2023</td>\n",
       "      <td>8</td>\n",
       "      <td>1</td>\n",
       "    </tr>\n",
       "    <tr>\n",
       "      <th>...</th>\n",
       "      <td>...</td>\n",
       "      <td>...</td>\n",
       "      <td>...</td>\n",
       "      <td>...</td>\n",
       "      <td>...</td>\n",
       "      <td>...</td>\n",
       "      <td>...</td>\n",
       "      <td>...</td>\n",
       "      <td>...</td>\n",
       "      <td>...</td>\n",
       "      <td>...</td>\n",
       "    </tr>\n",
       "    <tr>\n",
       "      <th>610012</th>\n",
       "      <td>241511632</td>\n",
       "      <td>15</td>\n",
       "      <td>1531</td>\n",
       "      <td>3004 3028 4026 3030 3033 3035 3037</td>\n",
       "      <td>25.0</td>\n",
       "      <td>F</td>\n",
       "      <td>W</td>\n",
       "      <td>101</td>\n",
       "      <td>2023</td>\n",
       "      <td>11</td>\n",
       "      <td>8</td>\n",
       "    </tr>\n",
       "    <tr>\n",
       "      <th>610025</th>\n",
       "      <td>230818071</td>\n",
       "      <td>8</td>\n",
       "      <td>849</td>\n",
       "      <td>3035 3101 3401 3701 3037 3006 3028 3039 4008</td>\n",
       "      <td>22.0</td>\n",
       "      <td>M</td>\n",
       "      <td>W</td>\n",
       "      <td>101</td>\n",
       "      <td>2023</td>\n",
       "      <td>12</td>\n",
       "      <td>23</td>\n",
       "    </tr>\n",
       "    <tr>\n",
       "      <th>610027</th>\n",
       "      <td>231714536</td>\n",
       "      <td>17</td>\n",
       "      <td>1795</td>\n",
       "      <td>3004 3028 4026 3030 3033 3035</td>\n",
       "      <td>55.0</td>\n",
       "      <td>M</td>\n",
       "      <td>W</td>\n",
       "      <td>101</td>\n",
       "      <td>2023</td>\n",
       "      <td>7</td>\n",
       "      <td>19</td>\n",
       "    </tr>\n",
       "    <tr>\n",
       "      <th>610226</th>\n",
       "      <td>240408407</td>\n",
       "      <td>4</td>\n",
       "      <td>468</td>\n",
       "      <td>0605 4024</td>\n",
       "      <td>20.0</td>\n",
       "      <td>M</td>\n",
       "      <td>H</td>\n",
       "      <td>101</td>\n",
       "      <td>2023</td>\n",
       "      <td>11</td>\n",
       "      <td>17</td>\n",
       "    </tr>\n",
       "    <tr>\n",
       "      <th>610260</th>\n",
       "      <td>241310957</td>\n",
       "      <td>13</td>\n",
       "      <td>1344</td>\n",
       "      <td>0605 3006 3028 3033 3034 3037 3101 4024</td>\n",
       "      <td>40.0</td>\n",
       "      <td>M</td>\n",
       "      <td>O</td>\n",
       "      <td>101</td>\n",
       "      <td>2023</td>\n",
       "      <td>9</td>\n",
       "      <td>14</td>\n",
       "    </tr>\n",
       "  </tbody>\n",
       "</table>\n",
       "<p>14364 rows × 11 columns</p>\n",
       "</div>"
      ],
      "text/plain": [
       "         DRNumber  AreaID  ReportingDistrict  \\\n",
       "73927   231112652      11               1153   \n",
       "73977   231513085      15               1591   \n",
       "76184   230117723       1                142   \n",
       "76244   230215058       2                246   \n",
       "76274   230314669       3                396   \n",
       "...           ...     ...                ...   \n",
       "610012  241511632      15               1531   \n",
       "610025  230818071       8                849   \n",
       "610027  231714536      17               1795   \n",
       "610226  240408407       4                468   \n",
       "610260  241310957      13               1344   \n",
       "\n",
       "                                                  MOCodes  VictimAge  \\\n",
       "73927   3006 3030 3101 0605 3401 3701 4011 3037 3028 3033       37.0   \n",
       "73977                       3004 3028 4026 3030 3033 3035       63.0   \n",
       "76184   3401 3701 3004 0605 3025 3029 3033 3036 3101 4024       61.0   \n",
       "76244   3006 0605 3028 3033 3037 3039 3101 3401 3701 4002       40.0   \n",
       "76274                                 4025 3025 3029 3003       24.0   \n",
       "...                                                   ...        ...   \n",
       "610012                 3004 3028 4026 3030 3033 3035 3037       25.0   \n",
       "610025       3035 3101 3401 3701 3037 3006 3028 3039 4008       22.0   \n",
       "610027                      3004 3028 4026 3030 3033 3035       55.0   \n",
       "610226                                          0605 4024       20.0   \n",
       "610260            0605 3006 3028 3033 3034 3037 3101 4024       40.0   \n",
       "\n",
       "       VictimSex VictimDescent  PremiseCode  Year  Month  Hour  \n",
       "73927          M             H          101  2023      8     2  \n",
       "73977          F             W          101  2023      7     7  \n",
       "76184          M             H          101  2023      8    22  \n",
       "76244          M             H          101  2023      8    22  \n",
       "76274          F             H          101  2023      8     1  \n",
       "...          ...           ...          ...   ...    ...   ...  \n",
       "610012         F             W          101  2023     11     8  \n",
       "610025         M             W          101  2023     12    23  \n",
       "610027         M             W          101  2023      7    19  \n",
       "610226         M             H          101  2023     11    17  \n",
       "610260         M             O          101  2023      9    14  \n",
       "\n",
       "[14364 rows x 11 columns]"
      ]
     },
     "execution_count": 24,
     "metadata": {},
     "output_type": "execute_result"
    }
   ],
   "source": [
    "df1"
   ]
  },
  {
   "cell_type": "code",
   "execution_count": 25,
   "id": "4ae14112-e6b5-44c4-ad11-07e824f19dd9",
   "metadata": {
    "execution": {
     "iopub.execute_input": "2024-07-15T21:51:47.746479Z",
     "iopub.status.busy": "2024-07-15T21:51:47.745479Z",
     "iopub.status.idle": "2024-07-15T21:51:47.758053Z",
     "shell.execute_reply": "2024-07-15T21:51:47.758053Z",
     "shell.execute_reply.started": "2024-07-15T21:51:47.746479Z"
    }
   },
   "outputs": [
    {
     "name": "stdout",
     "output_type": "stream",
     "text": [
      "DRNumber: [231112652 231513085 230117723 ... 231714536 240408407 241310957]\n",
      "AreaID: [11 15  1  2  3  4  6  8  9 10 12 13 16 17 18 19 20 21 14  7  5]\n",
      "ReportingDistrict: [1153 1591  142 ... 1773 1979 1498]\n",
      "MOCodes: ['3006 3030 3101 0605 3401 3701 4011 3037 3028 3033'\n",
      " '3004 3028 4026 3030 3033 3035'\n",
      " '3401 3701 3004 0605 3025 3029 3033 3036 3101 4024' ...\n",
      " '3011 3035 3037 3101 3401 3701 3006 3028 3030 4027'\n",
      " '4014 3036 3101 3030 3028 3011 3034 3401 3701 3033'\n",
      " '3035 3101 3401 3701 3037 3006 3028 3039 4008']\n",
      "VictimAge: [37. 63. 61. 40. 24. 57. 47. 23. 45. 44. 31. 70. 30. 21. 99. 51. 22. 33.\n",
      " 76. 42. 67. 59. 64. 27. 34. 29. 25. 32. 41. 28. 49. 52. 48. 53. 26. 50.\n",
      " 58. 18. 39. 38. 20. 19. 35. 54. 75. 36. 85. 83. 43. 60. 78. 46. 65. 56.\n",
      " 15. 62. 55. 66. 12. 13. 77. 72. 71. 73. 16. 81. 17. 11. 88. 69. 80. 74.\n",
      " 68. 79. 89. 14. 10. 84. 87. 91. 94. 90. 98. 86. 82. 95. 92. 93.]\n",
      "VictimSex: ['M' 'F' 'X' 'H' '-']\n",
      "VictimDescent: ['H' 'W' 'O' 'B' 'F' 'A' 'X' 'K' 'J' 'I' 'V' 'C' 'U' 'Z' 'P' 'G' '-']\n",
      "PremiseCode: [101 108 102 707 103 406 104 110 301 126 501 710 116 215 105 109 107 212\n",
      " 121 502 203 958 701]\n",
      "Year: [2023]\n",
      "Month: [ 8  7  6  3  5 11  4 12 10  1  2  9]\n",
      "Hour: [ 2  7 22  1 10 12 19  8  9 13 11 23 17 15  5 20 18  0 16 21 14  6  4  3]\n"
     ]
    }
   ],
   "source": [
    "for column in df1.columns:\n",
    "    unique_values = df1[column].unique()\n",
    "    print(f\"{column}: {unique_values}\")"
   ]
  },
  {
   "cell_type": "code",
   "execution_count": 26,
   "id": "4280dae8-a4c3-445d-9d8b-93b1582eadeb",
   "metadata": {
    "execution": {
     "iopub.execute_input": "2024-07-15T21:51:50.131624Z",
     "iopub.status.busy": "2024-07-15T21:51:50.131624Z",
     "iopub.status.idle": "2024-07-15T21:51:50.138215Z",
     "shell.execute_reply": "2024-07-15T21:51:50.138215Z",
     "shell.execute_reply.started": "2024-07-15T21:51:50.131624Z"
    }
   },
   "outputs": [
    {
     "data": {
      "text/plain": [
       "VictimSex\n",
       "M    9820\n",
       "F    4273\n",
       "X     264\n",
       "H       6\n",
       "-       1\n",
       "Name: count, dtype: int64"
      ]
     },
     "execution_count": 26,
     "metadata": {},
     "output_type": "execute_result"
    }
   ],
   "source": [
    "df1['VictimSex'].value_counts()"
   ]
  },
  {
   "cell_type": "code",
   "execution_count": 27,
   "id": "e8e7ffb3-ead0-4a86-9ad1-8d2c9f6e6daa",
   "metadata": {
    "execution": {
     "iopub.execute_input": "2024-07-15T21:51:50.604471Z",
     "iopub.status.busy": "2024-07-15T21:51:50.604471Z",
     "iopub.status.idle": "2024-07-15T21:51:50.610823Z",
     "shell.execute_reply": "2024-07-15T21:51:50.610823Z",
     "shell.execute_reply.started": "2024-07-15T21:51:50.604471Z"
    }
   },
   "outputs": [
    {
     "data": {
      "text/plain": [
       "VictimDescent\n",
       "H    6572\n",
       "W    2629\n",
       "B    2120\n",
       "O    2115\n",
       "A     552\n",
       "X     259\n",
       "F      41\n",
       "K      34\n",
       "C      16\n",
       "U       9\n",
       "I       4\n",
       "V       4\n",
       "J       3\n",
       "Z       2\n",
       "P       2\n",
       "G       1\n",
       "-       1\n",
       "Name: count, dtype: int64"
      ]
     },
     "execution_count": 27,
     "metadata": {},
     "output_type": "execute_result"
    }
   ],
   "source": [
    "df1['VictimDescent'].value_counts()"
   ]
  },
  {
   "cell_type": "code",
   "execution_count": 28,
   "id": "e4945871-8c0c-4144-85c4-beb63e8a3195",
   "metadata": {
    "execution": {
     "iopub.execute_input": "2024-07-15T21:51:52.312651Z",
     "iopub.status.busy": "2024-07-15T21:51:52.311463Z",
     "iopub.status.idle": "2024-07-15T21:51:52.322888Z",
     "shell.execute_reply": "2024-07-15T21:51:52.322383Z",
     "shell.execute_reply.started": "2024-07-15T21:51:52.312651Z"
    }
   },
   "outputs": [
    {
     "data": {
      "text/html": [
       "<div>\n",
       "<style scoped>\n",
       "    .dataframe tbody tr th:only-of-type {\n",
       "        vertical-align: middle;\n",
       "    }\n",
       "\n",
       "    .dataframe tbody tr th {\n",
       "        vertical-align: top;\n",
       "    }\n",
       "\n",
       "    .dataframe thead th {\n",
       "        text-align: right;\n",
       "    }\n",
       "</style>\n",
       "<table border=\"1\" class=\"dataframe\">\n",
       "  <thead>\n",
       "    <tr style=\"text-align: right;\">\n",
       "      <th></th>\n",
       "      <th>DRNumber</th>\n",
       "      <th>AreaID</th>\n",
       "      <th>ReportingDistrict</th>\n",
       "      <th>MOCodes</th>\n",
       "      <th>VictimAge</th>\n",
       "      <th>VictimSex</th>\n",
       "      <th>VictimDescent</th>\n",
       "      <th>PremiseCode</th>\n",
       "      <th>Year</th>\n",
       "      <th>Month</th>\n",
       "      <th>Hour</th>\n",
       "    </tr>\n",
       "  </thead>\n",
       "  <tbody>\n",
       "    <tr>\n",
       "      <th>608195</th>\n",
       "      <td>231415415</td>\n",
       "      <td>14</td>\n",
       "      <td>1412</td>\n",
       "      <td>3011 3028</td>\n",
       "      <td>22.0</td>\n",
       "      <td>-</td>\n",
       "      <td>-</td>\n",
       "      <td>101</td>\n",
       "      <td>2023</td>\n",
       "      <td>8</td>\n",
       "      <td>1</td>\n",
       "    </tr>\n",
       "  </tbody>\n",
       "</table>\n",
       "</div>"
      ],
      "text/plain": [
       "         DRNumber  AreaID  ReportingDistrict    MOCodes  VictimAge VictimSex  \\\n",
       "608195  231415415      14               1412  3011 3028       22.0         -   \n",
       "\n",
       "       VictimDescent  PremiseCode  Year  Month  Hour  \n",
       "608195             -          101  2023      8     1  "
      ]
     },
     "execution_count": 28,
     "metadata": {},
     "output_type": "execute_result"
    }
   ],
   "source": [
    "df1[df1['VictimDescent']=='-']"
   ]
  },
  {
   "cell_type": "code",
   "execution_count": 29,
   "id": "476f5bc9-13f6-4f8a-94c9-e20201aab4fd",
   "metadata": {
    "execution": {
     "iopub.execute_input": "2024-07-15T21:51:52.844883Z",
     "iopub.status.busy": "2024-07-15T21:51:52.844883Z",
     "iopub.status.idle": "2024-07-15T21:51:52.857410Z",
     "shell.execute_reply": "2024-07-15T21:51:52.857410Z",
     "shell.execute_reply.started": "2024-07-15T21:51:52.844883Z"
    }
   },
   "outputs": [
    {
     "data": {
      "text/html": [
       "<div>\n",
       "<style scoped>\n",
       "    .dataframe tbody tr th:only-of-type {\n",
       "        vertical-align: middle;\n",
       "    }\n",
       "\n",
       "    .dataframe tbody tr th {\n",
       "        vertical-align: top;\n",
       "    }\n",
       "\n",
       "    .dataframe thead th {\n",
       "        text-align: right;\n",
       "    }\n",
       "</style>\n",
       "<table border=\"1\" class=\"dataframe\">\n",
       "  <thead>\n",
       "    <tr style=\"text-align: right;\">\n",
       "      <th></th>\n",
       "      <th>DRNumber</th>\n",
       "      <th>AreaID</th>\n",
       "      <th>ReportingDistrict</th>\n",
       "      <th>MOCodes</th>\n",
       "      <th>VictimAge</th>\n",
       "      <th>VictimSex</th>\n",
       "      <th>VictimDescent</th>\n",
       "      <th>PremiseCode</th>\n",
       "      <th>Year</th>\n",
       "      <th>Month</th>\n",
       "      <th>Hour</th>\n",
       "    </tr>\n",
       "  </thead>\n",
       "  <tbody>\n",
       "  </tbody>\n",
       "</table>\n",
       "</div>"
      ],
      "text/plain": [
       "Empty DataFrame\n",
       "Columns: [DRNumber, AreaID, ReportingDistrict, MOCodes, VictimAge, VictimSex, VictimDescent, PremiseCode, Year, Month, Hour]\n",
       "Index: []"
      ]
     },
     "execution_count": 29,
     "metadata": {},
     "output_type": "execute_result"
    }
   ],
   "source": [
    "duplicates = df1[df1.duplicated('DRNumber', keep=False)]\n",
    "duplicates"
   ]
  },
  {
   "cell_type": "code",
   "execution_count": 30,
   "id": "57893ccf-e568-4401-85a9-f2c16a7c0f5b",
   "metadata": {
    "execution": {
     "iopub.execute_input": "2024-07-15T21:51:53.447902Z",
     "iopub.status.busy": "2024-07-15T21:51:53.447902Z",
     "iopub.status.idle": "2024-07-15T21:51:53.483125Z",
     "shell.execute_reply": "2024-07-15T21:51:53.483125Z",
     "shell.execute_reply.started": "2024-07-15T21:51:53.447902Z"
    },
    "scrolled": true
   },
   "outputs": [
    {
     "name": "stdout",
     "output_type": "stream",
     "text": [
      "<class 'pandas.core.frame.DataFrame'>\n",
      "Index: 14357 entries, 73927 to 610260\n",
      "Data columns (total 11 columns):\n",
      " #   Column             Non-Null Count  Dtype  \n",
      "---  ------             --------------  -----  \n",
      " 0   DRNumber           14357 non-null  int64  \n",
      " 1   AreaID             14357 non-null  int64  \n",
      " 2   ReportingDistrict  14357 non-null  int64  \n",
      " 3   MOCodes            14357 non-null  object \n",
      " 4   VictimAge          14357 non-null  float64\n",
      " 5   VictimSex          14357 non-null  object \n",
      " 6   VictimDescent      14357 non-null  object \n",
      " 7   PremiseCode        14357 non-null  int32  \n",
      " 8   Year               14357 non-null  int32  \n",
      " 9   Month              14357 non-null  int32  \n",
      " 10  Hour               14357 non-null  int32  \n",
      "dtypes: float64(1), int32(4), int64(3), object(3)\n",
      "memory usage: 1.1+ MB\n",
      "None\n"
     ]
    },
    {
     "data": {
      "text/html": [
       "<div>\n",
       "<style scoped>\n",
       "    .dataframe tbody tr th:only-of-type {\n",
       "        vertical-align: middle;\n",
       "    }\n",
       "\n",
       "    .dataframe tbody tr th {\n",
       "        vertical-align: top;\n",
       "    }\n",
       "\n",
       "    .dataframe thead th {\n",
       "        text-align: right;\n",
       "    }\n",
       "</style>\n",
       "<table border=\"1\" class=\"dataframe\">\n",
       "  <thead>\n",
       "    <tr style=\"text-align: right;\">\n",
       "      <th></th>\n",
       "      <th>DRNumber</th>\n",
       "      <th>AreaID</th>\n",
       "      <th>ReportingDistrict</th>\n",
       "      <th>MOCodes</th>\n",
       "      <th>VictimAge</th>\n",
       "      <th>VictimSex</th>\n",
       "      <th>VictimDescent</th>\n",
       "      <th>PremiseCode</th>\n",
       "      <th>Year</th>\n",
       "      <th>Month</th>\n",
       "      <th>Hour</th>\n",
       "      <th>MOCodesSplit</th>\n",
       "    </tr>\n",
       "  </thead>\n",
       "  <tbody>\n",
       "    <tr>\n",
       "      <th>73927</th>\n",
       "      <td>231112652</td>\n",
       "      <td>11</td>\n",
       "      <td>1153</td>\n",
       "      <td>3006 3030 3101 0605 3401 3701 4011 3037 3028 3033</td>\n",
       "      <td>37.0</td>\n",
       "      <td>M</td>\n",
       "      <td>H</td>\n",
       "      <td>101</td>\n",
       "      <td>2023</td>\n",
       "      <td>8</td>\n",
       "      <td>2</td>\n",
       "      <td>[3006, 3030, 3101, 0605, 3401, 3701, 4011, 303...</td>\n",
       "    </tr>\n",
       "    <tr>\n",
       "      <th>73977</th>\n",
       "      <td>231513085</td>\n",
       "      <td>15</td>\n",
       "      <td>1591</td>\n",
       "      <td>3004 3028 4026 3030 3033 3035</td>\n",
       "      <td>63.0</td>\n",
       "      <td>F</td>\n",
       "      <td>W</td>\n",
       "      <td>101</td>\n",
       "      <td>2023</td>\n",
       "      <td>7</td>\n",
       "      <td>7</td>\n",
       "      <td>[3004, 3028, 4026, 3030, 3033, 3035]</td>\n",
       "    </tr>\n",
       "    <tr>\n",
       "      <th>76184</th>\n",
       "      <td>230117723</td>\n",
       "      <td>1</td>\n",
       "      <td>142</td>\n",
       "      <td>3401 3701 3004 0605 3025 3029 3033 3036 3101 4024</td>\n",
       "      <td>61.0</td>\n",
       "      <td>M</td>\n",
       "      <td>H</td>\n",
       "      <td>101</td>\n",
       "      <td>2023</td>\n",
       "      <td>8</td>\n",
       "      <td>22</td>\n",
       "      <td>[3401, 3701, 3004, 0605, 3025, 3029, 3033, 303...</td>\n",
       "    </tr>\n",
       "    <tr>\n",
       "      <th>76244</th>\n",
       "      <td>230215058</td>\n",
       "      <td>2</td>\n",
       "      <td>246</td>\n",
       "      <td>3006 0605 3028 3033 3037 3039 3101 3401 3701 4002</td>\n",
       "      <td>40.0</td>\n",
       "      <td>M</td>\n",
       "      <td>H</td>\n",
       "      <td>101</td>\n",
       "      <td>2023</td>\n",
       "      <td>8</td>\n",
       "      <td>22</td>\n",
       "      <td>[3006, 0605, 3028, 3033, 3037, 3039, 3101, 340...</td>\n",
       "    </tr>\n",
       "    <tr>\n",
       "      <th>76274</th>\n",
       "      <td>230314669</td>\n",
       "      <td>3</td>\n",
       "      <td>396</td>\n",
       "      <td>4025 3025 3029 3003</td>\n",
       "      <td>24.0</td>\n",
       "      <td>F</td>\n",
       "      <td>H</td>\n",
       "      <td>101</td>\n",
       "      <td>2023</td>\n",
       "      <td>8</td>\n",
       "      <td>1</td>\n",
       "      <td>[4025, 3025, 3029, 3003]</td>\n",
       "    </tr>\n",
       "    <tr>\n",
       "      <th>...</th>\n",
       "      <td>...</td>\n",
       "      <td>...</td>\n",
       "      <td>...</td>\n",
       "      <td>...</td>\n",
       "      <td>...</td>\n",
       "      <td>...</td>\n",
       "      <td>...</td>\n",
       "      <td>...</td>\n",
       "      <td>...</td>\n",
       "      <td>...</td>\n",
       "      <td>...</td>\n",
       "      <td>...</td>\n",
       "    </tr>\n",
       "    <tr>\n",
       "      <th>610012</th>\n",
       "      <td>241511632</td>\n",
       "      <td>15</td>\n",
       "      <td>1531</td>\n",
       "      <td>3004 3028 4026 3030 3033 3035 3037</td>\n",
       "      <td>25.0</td>\n",
       "      <td>F</td>\n",
       "      <td>W</td>\n",
       "      <td>101</td>\n",
       "      <td>2023</td>\n",
       "      <td>11</td>\n",
       "      <td>8</td>\n",
       "      <td>[3004, 3028, 4026, 3030, 3033, 3035, 3037]</td>\n",
       "    </tr>\n",
       "    <tr>\n",
       "      <th>610025</th>\n",
       "      <td>230818071</td>\n",
       "      <td>8</td>\n",
       "      <td>849</td>\n",
       "      <td>3035 3101 3401 3701 3037 3006 3028 3039 4008</td>\n",
       "      <td>22.0</td>\n",
       "      <td>M</td>\n",
       "      <td>W</td>\n",
       "      <td>101</td>\n",
       "      <td>2023</td>\n",
       "      <td>12</td>\n",
       "      <td>23</td>\n",
       "      <td>[3035, 3101, 3401, 3701, 3037, 3006, 3028, 303...</td>\n",
       "    </tr>\n",
       "    <tr>\n",
       "      <th>610027</th>\n",
       "      <td>231714536</td>\n",
       "      <td>17</td>\n",
       "      <td>1795</td>\n",
       "      <td>3004 3028 4026 3030 3033 3035</td>\n",
       "      <td>55.0</td>\n",
       "      <td>M</td>\n",
       "      <td>W</td>\n",
       "      <td>101</td>\n",
       "      <td>2023</td>\n",
       "      <td>7</td>\n",
       "      <td>19</td>\n",
       "      <td>[3004, 3028, 4026, 3030, 3033, 3035]</td>\n",
       "    </tr>\n",
       "    <tr>\n",
       "      <th>610226</th>\n",
       "      <td>240408407</td>\n",
       "      <td>4</td>\n",
       "      <td>468</td>\n",
       "      <td>0605 4024</td>\n",
       "      <td>20.0</td>\n",
       "      <td>M</td>\n",
       "      <td>H</td>\n",
       "      <td>101</td>\n",
       "      <td>2023</td>\n",
       "      <td>11</td>\n",
       "      <td>17</td>\n",
       "      <td>[0605, 4024]</td>\n",
       "    </tr>\n",
       "    <tr>\n",
       "      <th>610260</th>\n",
       "      <td>241310957</td>\n",
       "      <td>13</td>\n",
       "      <td>1344</td>\n",
       "      <td>0605 3006 3028 3033 3034 3037 3101 4024</td>\n",
       "      <td>40.0</td>\n",
       "      <td>M</td>\n",
       "      <td>O</td>\n",
       "      <td>101</td>\n",
       "      <td>2023</td>\n",
       "      <td>9</td>\n",
       "      <td>14</td>\n",
       "      <td>[0605, 3006, 3028, 3033, 3034, 3037, 3101, 4024]</td>\n",
       "    </tr>\n",
       "  </tbody>\n",
       "</table>\n",
       "<p>14357 rows × 12 columns</p>\n",
       "</div>"
      ],
      "text/plain": [
       "         DRNumber  AreaID  ReportingDistrict  \\\n",
       "73927   231112652      11               1153   \n",
       "73977   231513085      15               1591   \n",
       "76184   230117723       1                142   \n",
       "76244   230215058       2                246   \n",
       "76274   230314669       3                396   \n",
       "...           ...     ...                ...   \n",
       "610012  241511632      15               1531   \n",
       "610025  230818071       8                849   \n",
       "610027  231714536      17               1795   \n",
       "610226  240408407       4                468   \n",
       "610260  241310957      13               1344   \n",
       "\n",
       "                                                  MOCodes  VictimAge  \\\n",
       "73927   3006 3030 3101 0605 3401 3701 4011 3037 3028 3033       37.0   \n",
       "73977                       3004 3028 4026 3030 3033 3035       63.0   \n",
       "76184   3401 3701 3004 0605 3025 3029 3033 3036 3101 4024       61.0   \n",
       "76244   3006 0605 3028 3033 3037 3039 3101 3401 3701 4002       40.0   \n",
       "76274                                 4025 3025 3029 3003       24.0   \n",
       "...                                                   ...        ...   \n",
       "610012                 3004 3028 4026 3030 3033 3035 3037       25.0   \n",
       "610025       3035 3101 3401 3701 3037 3006 3028 3039 4008       22.0   \n",
       "610027                      3004 3028 4026 3030 3033 3035       55.0   \n",
       "610226                                          0605 4024       20.0   \n",
       "610260            0605 3006 3028 3033 3034 3037 3101 4024       40.0   \n",
       "\n",
       "       VictimSex VictimDescent  PremiseCode  Year  Month  Hour  \\\n",
       "73927          M             H          101  2023      8     2   \n",
       "73977          F             W          101  2023      7     7   \n",
       "76184          M             H          101  2023      8    22   \n",
       "76244          M             H          101  2023      8    22   \n",
       "76274          F             H          101  2023      8     1   \n",
       "...          ...           ...          ...   ...    ...   ...   \n",
       "610012         F             W          101  2023     11     8   \n",
       "610025         M             W          101  2023     12    23   \n",
       "610027         M             W          101  2023      7    19   \n",
       "610226         M             H          101  2023     11    17   \n",
       "610260         M             O          101  2023      9    14   \n",
       "\n",
       "                                             MOCodesSplit  \n",
       "73927   [3006, 3030, 3101, 0605, 3401, 3701, 4011, 303...  \n",
       "73977                [3004, 3028, 4026, 3030, 3033, 3035]  \n",
       "76184   [3401, 3701, 3004, 0605, 3025, 3029, 3033, 303...  \n",
       "76244   [3006, 0605, 3028, 3033, 3037, 3039, 3101, 340...  \n",
       "76274                            [4025, 3025, 3029, 3003]  \n",
       "...                                                   ...  \n",
       "610012         [3004, 3028, 4026, 3030, 3033, 3035, 3037]  \n",
       "610025  [3035, 3101, 3401, 3701, 3037, 3006, 3028, 303...  \n",
       "610027               [3004, 3028, 4026, 3030, 3033, 3035]  \n",
       "610226                                       [0605, 4024]  \n",
       "610260   [0605, 3006, 3028, 3033, 3034, 3037, 3101, 4024]  \n",
       "\n",
       "[14357 rows x 12 columns]"
      ]
     },
     "execution_count": 30,
     "metadata": {},
     "output_type": "execute_result"
    }
   ],
   "source": [
    "# df2 = df1[(df1['VictimDescent'] != '-') & (df1['VictimSex'].isin(['M', 'F', 'X']))]\n",
    "df2 = df1[df1['VictimSex'].isin(['M', 'F', 'X'])]\n",
    "print(df2.info())\n",
    "# df2['MOCodesSplit'] = df2['MOCodes'].str.split()\n",
    "df2 = df2.assign(MOCodesSplit=df2['MOCodes'].str.split())\n",
    "df2"
   ]
  },
  {
   "cell_type": "markdown",
   "id": "247b3cd0-9db2-47f1-b6dd-e42f6f2aa65d",
   "metadata": {},
   "source": []
  },
  {
   "cell_type": "code",
   "execution_count": 31,
   "id": "00ab66ca-9c44-4da2-924e-b67bd975e430",
   "metadata": {
    "execution": {
     "iopub.execute_input": "2024-07-15T21:51:55.318682Z",
     "iopub.status.busy": "2024-07-15T21:51:55.318682Z",
     "iopub.status.idle": "2024-07-15T21:51:55.330951Z",
     "shell.execute_reply": "2024-07-15T21:51:55.330951Z",
     "shell.execute_reply.started": "2024-07-15T21:51:55.318682Z"
    }
   },
   "outputs": [],
   "source": []
  },
  {
   "cell_type": "code",
   "execution_count": null,
   "id": "665a8207-5d79-4cb4-a221-1df1c3229769",
   "metadata": {},
   "outputs": [],
   "source": []
  },
  {
   "cell_type": "code",
   "execution_count": 32,
   "id": "06756ec3-bbc6-4a6b-be98-fcb45a8fa9af",
   "metadata": {
    "execution": {
     "iopub.execute_input": "2024-07-15T21:51:55.716379Z",
     "iopub.status.busy": "2024-07-15T21:51:55.716379Z",
     "iopub.status.idle": "2024-07-15T21:51:55.734787Z",
     "shell.execute_reply": "2024-07-15T21:51:55.733780Z",
     "shell.execute_reply.started": "2024-07-15T21:51:55.716379Z"
    }
   },
   "outputs": [
    {
     "name": "stdout",
     "output_type": "stream",
     "text": [
      "119\n",
      "{'3034', '4024', '3008', '1419', '3035', '4026', '3038', '3063', '1309', '0432', '3602', '4004', '4008', '0605', '3012', '3003', '2028', '0422', '4012', '0443', '3002', '3040', '3001', '0329', '3036', '2042', '4009', '0604', '4019', '4014', '1300', '3101', '4002', '3601', '0216', '3015', '0325', '1026', '3062', '1407', '3026', '3017', '3006', '0601', '4027', '3104', '2024', '4025', '3022', '3032', '1420', '3021', '0328', '3401', '1218', '3102', '3025', '1313', '4003', '0906', '0910', '3004', '4001', '1501', '3020', '3027', '4006', '4010', '0416', '3064', '3010', '3501', '2303', '3037', '1822', '0352', '2004', '4013', '2029', '0401', '3103', '3028', '3019', '4011', '3039', '1402', '3024', '1409', '2002', '3030', '4018', '3029', '4021', '3007', '3011', '3023', '2021', '3033', '1025', '4007', '3014', '4016', '3701', '3016', '0947', '2030', '0907', '2018', '0913', '4015', '3018', '1816', '3013', '3009', '4017', '2038', '4020', '3005', '4005'}\n"
     ]
    }
   ],
   "source": [
    "unique_mocodes = set(code for codes in sample_df['MOCodesSplit'] for code in codes if code.isdigit())\n",
    "print(len(unique_mocodes))\n",
    "print(unique_mocodes)"
   ]
  },
  {
   "cell_type": "code",
   "execution_count": 34,
   "id": "a7a333c7-c500-4bab-aded-5de31c7e478e",
   "metadata": {
    "execution": {
     "iopub.execute_input": "2024-07-15T21:52:04.013157Z",
     "iopub.status.busy": "2024-07-15T21:52:04.012155Z",
     "iopub.status.idle": "2024-07-15T21:52:04.353958Z",
     "shell.execute_reply": "2024-07-15T21:52:04.353958Z",
     "shell.execute_reply.started": "2024-07-15T21:52:04.013157Z"
    }
   },
   "outputs": [
    {
     "data": {
      "text/html": [
       "<div>\n",
       "<style scoped>\n",
       "    .dataframe tbody tr th:only-of-type {\n",
       "        vertical-align: middle;\n",
       "    }\n",
       "\n",
       "    .dataframe tbody tr th {\n",
       "        vertical-align: top;\n",
       "    }\n",
       "\n",
       "    .dataframe thead th {\n",
       "        text-align: right;\n",
       "    }\n",
       "</style>\n",
       "<table border=\"1\" class=\"dataframe\">\n",
       "  <thead>\n",
       "    <tr style=\"text-align: right;\">\n",
       "      <th></th>\n",
       "      <th>DRNumber</th>\n",
       "      <th>AreaID</th>\n",
       "      <th>ReportingDistrict</th>\n",
       "      <th>VictimAge</th>\n",
       "      <th>VictimSex</th>\n",
       "      <th>VictimDescent</th>\n",
       "      <th>PremiseCode</th>\n",
       "      <th>Month</th>\n",
       "      <th>Hour</th>\n",
       "      <th>MOCodes3034</th>\n",
       "      <th>...</th>\n",
       "      <th>MOCodes4015</th>\n",
       "      <th>MOCodes3018</th>\n",
       "      <th>MOCodes1816</th>\n",
       "      <th>MOCodes3013</th>\n",
       "      <th>MOCodes3009</th>\n",
       "      <th>MOCodes4017</th>\n",
       "      <th>MOCodes2038</th>\n",
       "      <th>MOCodes4020</th>\n",
       "      <th>MOCodes3005</th>\n",
       "      <th>MOCodes4005</th>\n",
       "    </tr>\n",
       "  </thead>\n",
       "  <tbody>\n",
       "    <tr>\n",
       "      <th>604661</th>\n",
       "      <td>231412211</td>\n",
       "      <td>14</td>\n",
       "      <td>1444</td>\n",
       "      <td>28.0</td>\n",
       "      <td>M</td>\n",
       "      <td>W</td>\n",
       "      <td>101</td>\n",
       "      <td>6</td>\n",
       "      <td>2</td>\n",
       "      <td>0</td>\n",
       "      <td>...</td>\n",
       "      <td>0</td>\n",
       "      <td>0</td>\n",
       "      <td>0</td>\n",
       "      <td>0</td>\n",
       "      <td>0</td>\n",
       "      <td>0</td>\n",
       "      <td>0</td>\n",
       "      <td>0</td>\n",
       "      <td>0</td>\n",
       "      <td>0</td>\n",
       "    </tr>\n",
       "    <tr>\n",
       "      <th>603383</th>\n",
       "      <td>231910448</td>\n",
       "      <td>19</td>\n",
       "      <td>1983</td>\n",
       "      <td>50.0</td>\n",
       "      <td>M</td>\n",
       "      <td>O</td>\n",
       "      <td>101</td>\n",
       "      <td>6</td>\n",
       "      <td>21</td>\n",
       "      <td>1</td>\n",
       "      <td>...</td>\n",
       "      <td>0</td>\n",
       "      <td>0</td>\n",
       "      <td>0</td>\n",
       "      <td>0</td>\n",
       "      <td>0</td>\n",
       "      <td>0</td>\n",
       "      <td>0</td>\n",
       "      <td>0</td>\n",
       "      <td>0</td>\n",
       "      <td>0</td>\n",
       "    </tr>\n",
       "    <tr>\n",
       "      <th>593313</th>\n",
       "      <td>231604929</td>\n",
       "      <td>16</td>\n",
       "      <td>1654</td>\n",
       "      <td>99.0</td>\n",
       "      <td>X</td>\n",
       "      <td>X</td>\n",
       "      <td>101</td>\n",
       "      <td>1</td>\n",
       "      <td>13</td>\n",
       "      <td>1</td>\n",
       "      <td>...</td>\n",
       "      <td>0</td>\n",
       "      <td>0</td>\n",
       "      <td>0</td>\n",
       "      <td>0</td>\n",
       "      <td>0</td>\n",
       "      <td>0</td>\n",
       "      <td>0</td>\n",
       "      <td>0</td>\n",
       "      <td>0</td>\n",
       "      <td>0</td>\n",
       "    </tr>\n",
       "    <tr>\n",
       "      <th>599426</th>\n",
       "      <td>231210589</td>\n",
       "      <td>12</td>\n",
       "      <td>1213</td>\n",
       "      <td>64.0</td>\n",
       "      <td>M</td>\n",
       "      <td>H</td>\n",
       "      <td>101</td>\n",
       "      <td>4</td>\n",
       "      <td>12</td>\n",
       "      <td>0</td>\n",
       "      <td>...</td>\n",
       "      <td>0</td>\n",
       "      <td>0</td>\n",
       "      <td>0</td>\n",
       "      <td>0</td>\n",
       "      <td>0</td>\n",
       "      <td>0</td>\n",
       "      <td>0</td>\n",
       "      <td>0</td>\n",
       "      <td>0</td>\n",
       "      <td>0</td>\n",
       "    </tr>\n",
       "    <tr>\n",
       "      <th>602522</th>\n",
       "      <td>231109522</td>\n",
       "      <td>11</td>\n",
       "      <td>1138</td>\n",
       "      <td>41.0</td>\n",
       "      <td>M</td>\n",
       "      <td>A</td>\n",
       "      <td>101</td>\n",
       "      <td>5</td>\n",
       "      <td>13</td>\n",
       "      <td>0</td>\n",
       "      <td>...</td>\n",
       "      <td>0</td>\n",
       "      <td>0</td>\n",
       "      <td>0</td>\n",
       "      <td>0</td>\n",
       "      <td>0</td>\n",
       "      <td>0</td>\n",
       "      <td>0</td>\n",
       "      <td>0</td>\n",
       "      <td>0</td>\n",
       "      <td>0</td>\n",
       "    </tr>\n",
       "    <tr>\n",
       "      <th>...</th>\n",
       "      <td>...</td>\n",
       "      <td>...</td>\n",
       "      <td>...</td>\n",
       "      <td>...</td>\n",
       "      <td>...</td>\n",
       "      <td>...</td>\n",
       "      <td>...</td>\n",
       "      <td>...</td>\n",
       "      <td>...</td>\n",
       "      <td>...</td>\n",
       "      <td>...</td>\n",
       "      <td>...</td>\n",
       "      <td>...</td>\n",
       "      <td>...</td>\n",
       "      <td>...</td>\n",
       "      <td>...</td>\n",
       "      <td>...</td>\n",
       "      <td>...</td>\n",
       "      <td>...</td>\n",
       "      <td>...</td>\n",
       "      <td>...</td>\n",
       "    </tr>\n",
       "    <tr>\n",
       "      <th>605415</th>\n",
       "      <td>230610783</td>\n",
       "      <td>6</td>\n",
       "      <td>666</td>\n",
       "      <td>22.0</td>\n",
       "      <td>M</td>\n",
       "      <td>H</td>\n",
       "      <td>101</td>\n",
       "      <td>6</td>\n",
       "      <td>2</td>\n",
       "      <td>0</td>\n",
       "      <td>...</td>\n",
       "      <td>0</td>\n",
       "      <td>0</td>\n",
       "      <td>0</td>\n",
       "      <td>0</td>\n",
       "      <td>0</td>\n",
       "      <td>0</td>\n",
       "      <td>0</td>\n",
       "      <td>0</td>\n",
       "      <td>0</td>\n",
       "      <td>0</td>\n",
       "    </tr>\n",
       "    <tr>\n",
       "      <th>591791</th>\n",
       "      <td>231805130</td>\n",
       "      <td>18</td>\n",
       "      <td>1842</td>\n",
       "      <td>38.0</td>\n",
       "      <td>F</td>\n",
       "      <td>H</td>\n",
       "      <td>101</td>\n",
       "      <td>1</td>\n",
       "      <td>18</td>\n",
       "      <td>0</td>\n",
       "      <td>...</td>\n",
       "      <td>0</td>\n",
       "      <td>0</td>\n",
       "      <td>0</td>\n",
       "      <td>0</td>\n",
       "      <td>0</td>\n",
       "      <td>0</td>\n",
       "      <td>0</td>\n",
       "      <td>0</td>\n",
       "      <td>0</td>\n",
       "      <td>0</td>\n",
       "    </tr>\n",
       "    <tr>\n",
       "      <th>585860</th>\n",
       "      <td>231815695</td>\n",
       "      <td>18</td>\n",
       "      <td>1802</td>\n",
       "      <td>43.0</td>\n",
       "      <td>M</td>\n",
       "      <td>B</td>\n",
       "      <td>101</td>\n",
       "      <td>8</td>\n",
       "      <td>0</td>\n",
       "      <td>0</td>\n",
       "      <td>...</td>\n",
       "      <td>0</td>\n",
       "      <td>0</td>\n",
       "      <td>0</td>\n",
       "      <td>0</td>\n",
       "      <td>0</td>\n",
       "      <td>0</td>\n",
       "      <td>0</td>\n",
       "      <td>0</td>\n",
       "      <td>0</td>\n",
       "      <td>0</td>\n",
       "    </tr>\n",
       "    <tr>\n",
       "      <th>581156</th>\n",
       "      <td>231012722</td>\n",
       "      <td>10</td>\n",
       "      <td>1021</td>\n",
       "      <td>22.0</td>\n",
       "      <td>M</td>\n",
       "      <td>W</td>\n",
       "      <td>101</td>\n",
       "      <td>8</td>\n",
       "      <td>18</td>\n",
       "      <td>0</td>\n",
       "      <td>...</td>\n",
       "      <td>0</td>\n",
       "      <td>0</td>\n",
       "      <td>0</td>\n",
       "      <td>0</td>\n",
       "      <td>0</td>\n",
       "      <td>0</td>\n",
       "      <td>0</td>\n",
       "      <td>0</td>\n",
       "      <td>0</td>\n",
       "      <td>0</td>\n",
       "    </tr>\n",
       "    <tr>\n",
       "      <th>103412</th>\n",
       "      <td>231217674</td>\n",
       "      <td>12</td>\n",
       "      <td>1265</td>\n",
       "      <td>44.0</td>\n",
       "      <td>F</td>\n",
       "      <td>B</td>\n",
       "      <td>101</td>\n",
       "      <td>8</td>\n",
       "      <td>0</td>\n",
       "      <td>0</td>\n",
       "      <td>...</td>\n",
       "      <td>0</td>\n",
       "      <td>0</td>\n",
       "      <td>0</td>\n",
       "      <td>0</td>\n",
       "      <td>0</td>\n",
       "      <td>0</td>\n",
       "      <td>0</td>\n",
       "      <td>0</td>\n",
       "      <td>0</td>\n",
       "      <td>0</td>\n",
       "    </tr>\n",
       "  </tbody>\n",
       "</table>\n",
       "<p>10000 rows × 128 columns</p>\n",
       "</div>"
      ],
      "text/plain": [
       "         DRNumber  AreaID  ReportingDistrict  VictimAge VictimSex  \\\n",
       "604661  231412211      14               1444       28.0         M   \n",
       "603383  231910448      19               1983       50.0         M   \n",
       "593313  231604929      16               1654       99.0         X   \n",
       "599426  231210589      12               1213       64.0         M   \n",
       "602522  231109522      11               1138       41.0         M   \n",
       "...           ...     ...                ...        ...       ...   \n",
       "605415  230610783       6                666       22.0         M   \n",
       "591791  231805130      18               1842       38.0         F   \n",
       "585860  231815695      18               1802       43.0         M   \n",
       "581156  231012722      10               1021       22.0         M   \n",
       "103412  231217674      12               1265       44.0         F   \n",
       "\n",
       "       VictimDescent  PremiseCode  Month  Hour  MOCodes3034  ...  MOCodes4015  \\\n",
       "604661             W          101      6     2            0  ...            0   \n",
       "603383             O          101      6    21            1  ...            0   \n",
       "593313             X          101      1    13            1  ...            0   \n",
       "599426             H          101      4    12            0  ...            0   \n",
       "602522             A          101      5    13            0  ...            0   \n",
       "...              ...          ...    ...   ...          ...  ...          ...   \n",
       "605415             H          101      6     2            0  ...            0   \n",
       "591791             H          101      1    18            0  ...            0   \n",
       "585860             B          101      8     0            0  ...            0   \n",
       "581156             W          101      8    18            0  ...            0   \n",
       "103412             B          101      8     0            0  ...            0   \n",
       "\n",
       "        MOCodes3018  MOCodes1816  MOCodes3013  MOCodes3009  MOCodes4017  \\\n",
       "604661            0            0            0            0            0   \n",
       "603383            0            0            0            0            0   \n",
       "593313            0            0            0            0            0   \n",
       "599426            0            0            0            0            0   \n",
       "602522            0            0            0            0            0   \n",
       "...             ...          ...          ...          ...          ...   \n",
       "605415            0            0            0            0            0   \n",
       "591791            0            0            0            0            0   \n",
       "585860            0            0            0            0            0   \n",
       "581156            0            0            0            0            0   \n",
       "103412            0            0            0            0            0   \n",
       "\n",
       "        MOCodes2038  MOCodes4020  MOCodes3005  MOCodes4005  \n",
       "604661            0            0            0            0  \n",
       "603383            0            0            0            0  \n",
       "593313            0            0            0            0  \n",
       "599426            0            0            0            0  \n",
       "602522            0            0            0            0  \n",
       "...             ...          ...          ...          ...  \n",
       "605415            0            0            0            0  \n",
       "591791            0            0            0            0  \n",
       "585860            0            0            0            0  \n",
       "581156            0            0            0            0  \n",
       "103412            0            0            0            0  \n",
       "\n",
       "[10000 rows x 128 columns]"
      ]
     },
     "execution_count": 34,
     "metadata": {},
     "output_type": "execute_result"
    }
   ],
   "source": [
    "# Create an empty dataframe to save the new columns\n",
    "new_columns = {}\n",
    "\n",
    "# One-hot encoding for each MOCodes\n",
    "for code in unique_mocodes:\n",
    "    new_columns[f'MOCodes{code}'] = sample_df['MOCodes'].apply(lambda x: 1 if str(code) in x else 0)\n",
    "\n",
    "# Add the new columns to original dataframe\n",
    "sample_df_MOCodes = pd.concat([sample_df, pd.DataFrame(new_columns)], axis=1)\n",
    "\n",
    "# Remove unnecessary columns\n",
    "sample_df_MOCodes = sample_df_MOCodes.drop(['MOCodesSplit', 'MOCodes','Year'], axis=1)\n",
    "\n",
    "sample_df_MOCodes"
   ]
  },
  {
   "cell_type": "code",
   "execution_count": 35,
   "id": "6d1b73de-ade7-43aa-bac3-3204293c1015",
   "metadata": {
    "execution": {
     "iopub.execute_input": "2024-07-15T21:52:04.475030Z",
     "iopub.status.busy": "2024-07-15T21:52:04.475030Z",
     "iopub.status.idle": "2024-07-15T21:52:04.479474Z",
     "shell.execute_reply": "2024-07-15T21:52:04.478953Z",
     "shell.execute_reply.started": "2024-07-15T21:52:04.475030Z"
    }
   },
   "outputs": [
    {
     "name": "stdout",
     "output_type": "stream",
     "text": [
      "Index(['DRNumber', 'AreaID', 'ReportingDistrict', 'VictimAge', 'VictimSex',\n",
      "       'VictimDescent', 'PremiseCode', 'Month', 'Hour', 'MOCodes3034',\n",
      "       ...\n",
      "       'MOCodes4015', 'MOCodes3018', 'MOCodes1816', 'MOCodes3013',\n",
      "       'MOCodes3009', 'MOCodes4017', 'MOCodes2038', 'MOCodes4020',\n",
      "       'MOCodes3005', 'MOCodes4005'],\n",
      "      dtype='object', length=128)\n"
     ]
    }
   ],
   "source": [
    "print(sample_df_MOCodes.columns)"
   ]
  },
  {
   "cell_type": "code",
   "execution_count": 36,
   "id": "f9089ade-7858-42fa-8943-397791853fb5",
   "metadata": {
    "execution": {
     "iopub.execute_input": "2024-07-15T21:52:05.568446Z",
     "iopub.status.busy": "2024-07-15T21:52:05.567445Z",
     "iopub.status.idle": "2024-07-15T21:52:05.571912Z",
     "shell.execute_reply": "2024-07-15T21:52:05.571912Z",
     "shell.execute_reply.started": "2024-07-15T21:52:05.568446Z"
    }
   },
   "outputs": [],
   "source": [
    "def categorize_hour(hour):\n",
    "    if hour < 6:\n",
    "        return 'Night'\n",
    "    elif hour < 12:\n",
    "        return 'Morning'\n",
    "    elif hour < 18:\n",
    "        return 'Afternoon'\n",
    "    else:\n",
    "        return 'Evening'"
   ]
  },
  {
   "cell_type": "code",
   "execution_count": 37,
   "id": "f5624bb7-76a2-42a0-a41e-e9c47058e2f5",
   "metadata": {
    "execution": {
     "iopub.execute_input": "2024-07-15T21:52:09.517988Z",
     "iopub.status.busy": "2024-07-15T21:52:09.516973Z",
     "iopub.status.idle": "2024-07-15T21:52:09.525571Z",
     "shell.execute_reply": "2024-07-15T21:52:09.525571Z",
     "shell.execute_reply.started": "2024-07-15T21:52:09.517988Z"
    }
   },
   "outputs": [
    {
     "name": "stdout",
     "output_type": "stream",
     "text": [
      "         DRNumber  TimeOfDay\n",
      "604661  231412211      Night\n",
      "603383  231910448    Evening\n",
      "593313  231604929  Afternoon\n",
      "599426  231210589  Afternoon\n",
      "602522  231109522  Afternoon\n",
      "...           ...        ...\n",
      "605415  230610783      Night\n",
      "591791  231805130    Evening\n",
      "585860  231815695      Night\n",
      "581156  231012722    Evening\n",
      "103412  231217674      Night\n",
      "\n",
      "[10000 rows x 2 columns]\n"
     ]
    }
   ],
   "source": [
    "sample_df_MOCodes['TimeOfDay'] = sample_df_MOCodes['Hour'].apply(categorize_hour)\n",
    "\n",
    "print(sample_df_MOCodes[['DRNumber', 'TimeOfDay']])"
   ]
  },
  {
   "cell_type": "code",
   "execution_count": 38,
   "id": "2c74ff74-65c7-4444-b249-a620ba066f9a",
   "metadata": {
    "execution": {
     "iopub.execute_input": "2024-07-15T21:52:15.886484Z",
     "iopub.status.busy": "2024-07-15T21:52:15.886484Z",
     "iopub.status.idle": "2024-07-15T21:52:15.893504Z",
     "shell.execute_reply": "2024-07-15T21:52:15.893504Z",
     "shell.execute_reply.started": "2024-07-15T21:52:15.886484Z"
    }
   },
   "outputs": [
    {
     "name": "stdout",
     "output_type": "stream",
     "text": [
      "Index(['DRNumber', 'AreaID', 'ReportingDistrict', 'VictimAge', 'VictimSex',\n",
      "       'VictimDescent', 'PremiseCode', 'Month', 'MOCodes3034', 'MOCodes4024',\n",
      "       ...\n",
      "       'MOCodes3018', 'MOCodes1816', 'MOCodes3013', 'MOCodes3009',\n",
      "       'MOCodes4017', 'MOCodes2038', 'MOCodes4020', 'MOCodes3005',\n",
      "       'MOCodes4005', 'TimeOfDay'],\n",
      "      dtype='object', length=128)\n"
     ]
    }
   ],
   "source": [
    "sample_df_MOCodes = sample_df_MOCodes.drop(['Hour'], axis=1)\n",
    "print(sample_df_MOCodes.columns)"
   ]
  },
  {
   "cell_type": "code",
   "execution_count": 39,
   "id": "dfd22cc8-87ee-4725-b2ef-1d4d7dc36522",
   "metadata": {
    "execution": {
     "iopub.execute_input": "2024-07-15T21:52:20.245855Z",
     "iopub.status.busy": "2024-07-15T21:52:20.245855Z",
     "iopub.status.idle": "2024-07-15T21:52:20.262844Z",
     "shell.execute_reply": "2024-07-15T21:52:20.262341Z",
     "shell.execute_reply.started": "2024-07-15T21:52:20.245855Z"
    }
   },
   "outputs": [
    {
     "name": "stdout",
     "output_type": "stream",
     "text": [
      "Index(['DRNumber', 'AreaID', 'ReportingDistrict', 'VictimAge', 'VictimSex',\n",
      "       'VictimDescent', 'PremiseCode', 'Month', 'MOCodes3034', 'MOCodes4024',\n",
      "       ...\n",
      "       'MOCodes3013', 'MOCodes3009', 'MOCodes4017', 'MOCodes2038',\n",
      "       'MOCodes4020', 'MOCodes3005', 'MOCodes4005', 'TimeOfDay_Evening',\n",
      "       'TimeOfDay_Morning', 'TimeOfDay_Night'],\n",
      "      dtype='object', length=130)\n"
     ]
    }
   ],
   "source": [
    "sample_df_MOCodes_TimeOfDay = pd.get_dummies(sample_df_MOCodes, columns=['TimeOfDay'], drop_first=True)\n",
    "print(sample_df_MOCodes_TimeOfDay.columns)"
   ]
  },
  {
   "cell_type": "markdown",
   "id": "2d9e7581-6200-4ceb-9592-7875bb4e481d",
   "metadata": {},
   "source": [
    "<table width=\"100%\"><tr><td bgcolor=#00BFF></td></tr></table>"
   ]
  },
  {
   "cell_type": "code",
   "execution_count": 42,
   "id": "07d13c01-673f-44ea-a564-7d1d41ce2667",
   "metadata": {
    "execution": {
     "iopub.execute_input": "2024-07-15T21:56:58.448004Z",
     "iopub.status.busy": "2024-07-15T21:56:58.448004Z",
     "iopub.status.idle": "2024-07-15T21:56:58.451887Z",
     "shell.execute_reply": "2024-07-15T21:56:58.451887Z",
     "shell.execute_reply.started": "2024-07-15T21:56:58.448004Z"
    }
   },
   "outputs": [],
   "source": [
    "mocodes_columns = [col for col in sample_df_MOCodes.columns if col.startswith('MOCodes')]\n",
    "all_columns = ['DRNumber'] + mocodes_columns"
   ]
  },
  {
   "cell_type": "code",
   "execution_count": 45,
   "id": "f1f95c78-56f9-43a9-92a2-8f26b23437cb",
   "metadata": {
    "execution": {
     "iopub.execute_input": "2024-07-15T22:03:11.220740Z",
     "iopub.status.busy": "2024-07-15T22:03:11.219736Z",
     "iopub.status.idle": "2024-07-15T22:03:11.226405Z",
     "shell.execute_reply": "2024-07-15T22:03:11.225892Z",
     "shell.execute_reply.started": "2024-07-15T22:03:11.220740Z"
    }
   },
   "outputs": [],
   "source": [
    "sample_df_MOCodes_Cluster = sample_df_MOCodes[all_columns]"
   ]
  },
  {
   "cell_type": "code",
   "execution_count": 46,
   "id": "ca9fe201-7cb8-4627-bbf0-5d683a19584c",
   "metadata": {
    "execution": {
     "iopub.execute_input": "2024-07-15T22:03:14.184551Z",
     "iopub.status.busy": "2024-07-15T22:03:14.183487Z",
     "iopub.status.idle": "2024-07-15T22:03:14.189545Z",
     "shell.execute_reply": "2024-07-15T22:03:14.189545Z",
     "shell.execute_reply.started": "2024-07-15T22:03:14.183487Z"
    }
   },
   "outputs": [],
   "source": [
    "X = sample_df_MOCodes_Cluster.drop(['DRNumber'], axis=1)"
   ]
  },
  {
   "cell_type": "code",
   "execution_count": 43,
   "id": "08d58ca7-e543-4cd9-af3f-3330d8e20ad8",
   "metadata": {
    "execution": {
     "iopub.execute_input": "2024-07-15T22:01:41.051749Z",
     "iopub.status.busy": "2024-07-15T22:01:41.051749Z",
     "iopub.status.idle": "2024-07-15T22:01:42.391113Z",
     "shell.execute_reply": "2024-07-15T22:01:42.391113Z",
     "shell.execute_reply.started": "2024-07-15T22:01:41.051749Z"
    }
   },
   "outputs": [],
   "source": [
    "from sklearn.cluster import KMeans\n",
    "import matplotlib.pyplot as plt"
   ]
  },
  {
   "cell_type": "code",
   "execution_count": 47,
   "id": "266178b6-ac55-4844-9fed-14b2410d7b78",
   "metadata": {
    "execution": {
     "iopub.execute_input": "2024-07-15T22:03:20.463670Z",
     "iopub.status.busy": "2024-07-15T22:03:20.463670Z",
     "iopub.status.idle": "2024-07-15T22:03:23.979781Z",
     "shell.execute_reply": "2024-07-15T22:03:23.979781Z",
     "shell.execute_reply.started": "2024-07-15T22:03:20.463670Z"
    }
   },
   "outputs": [
    {
     "data": {
      "image/png": "[encoded data removed]",
      "text/plain": [
       "<Figure size 1000x600 with 1 Axes>"
      ]
     },
     "metadata": {},
     "output_type": "display_data"
    }
   ],
   "source": [
    "SSE = []\n",
    "centroid = []\n",
    "k_range = range(2, 30)  # you can adjust the range as needed\n",
    "for k in k_range:\n",
    "    kmeans = KMeans(n_clusters=k, random_state=42)\n",
    "    kmeans.fit(X)\n",
    "    SSE.append(kmeans.inertia_)  # Inertia is the SSE\n",
    "    centroid.append(kmeans.cluster_centers_)\n",
    "\n",
    "# Step 5: Plot the SSE to create the elbow chart\n",
    "plt.figure(figsize=(10, 6))\n",
    "plt.plot(k_range, SSE, marker='o')\n",
    "plt.xlabel('Number of clusters (k)')\n",
    "plt.ylabel('Sum of Squared Errors (SSE)')\n",
    "plt.title('Elbow Method for Optimal k')\n",
    "plt.grid(True)\n",
    "plt.show()"
   ]
  },
  {
   "cell_type": "code",
   "execution_count": 48,
   "id": "0722f068-e818-4856-8fe2-5a91c32e8117",
   "metadata": {
    "execution": {
     "iopub.execute_input": "2024-07-15T22:04:32.955612Z",
     "iopub.status.busy": "2024-07-15T22:04:32.955612Z",
     "iopub.status.idle": "2024-07-15T22:04:32.960868Z",
     "shell.execute_reply": "2024-07-15T22:04:32.960868Z",
     "shell.execute_reply.started": "2024-07-15T22:04:32.955612Z"
    }
   },
   "outputs": [
    {
     "data": {
      "text/plain": [
       "[(2, 39529.10173881842),\n",
       " (3, 37498.27221993591),\n",
       " (4, 34521.82132611929),\n",
       " (5, 32960.640653768256),\n",
       " (6, 30863.907529778233),\n",
       " (7, 29901.14085605298),\n",
       " (8, 29476.074171083386),\n",
       " (9, 28524.57442864505),\n",
       " (10, 27916.827587001062),\n",
       " (11, 26941.345425305695),\n",
       " (12, 26322.616824676737),\n",
       " (13, 25645.14746239097),\n",
       " (14, 25260.72359443205),\n",
       " (15, 24837.814799539006),\n",
       " (16, 24509.200054789973),\n",
       " (17, 24115.763330541566),\n",
       " (18, 23485.898588142267),\n",
       " (19, 23262.351632569593),\n",
       " (20, 23026.42251413417),\n",
       " (21, 22783.59308839592),\n",
       " (22, 22699.283264988146),\n",
       " (23, 22288.090223293486),\n",
       " (24, 22000.389910835253),\n",
       " (25, 21667.448318662442),\n",
       " (26, 21358.441433782198),\n",
       " (27, 21112.706614231443),\n",
       " (28, 20905.281672885507),\n",
       " (29, 20657.830416485387)]"
      ]
     },
     "execution_count": 48,
     "metadata": {},
     "output_type": "execute_result"
    }
   ],
   "source": [
    "[*zip(k_range, SSE)]"
   ]
  },
  {
   "cell_type": "code",
   "execution_count": 52,
   "id": "cf55d606-6196-4b14-94d7-498516edcf06",
   "metadata": {
    "execution": {
     "iopub.execute_input": "2024-07-15T22:17:04.921658Z",
     "iopub.status.busy": "2024-07-15T22:17:04.921658Z",
     "iopub.status.idle": "2024-07-15T22:17:04.925960Z",
     "shell.execute_reply": "2024-07-15T22:17:04.925960Z",
     "shell.execute_reply.started": "2024-07-15T22:17:04.921658Z"
    }
   },
   "outputs": [
    {
     "name": "stdout",
     "output_type": "stream",
     "text": [
      "The best k value is: 3\n"
     ]
    }
   ],
   "source": [
    "k_values = list(range(2, 30))\n",
    "\n",
    "# 计算一阶导数\n",
    "first_derivative = np.diff(SSE)\n",
    "\n",
    "# 计算二阶导数\n",
    "second_derivative = np.diff(first_derivative)\n",
    "\n",
    "# 找到二阶导数的最小值\n",
    "best_k = k_values[np.argmin(second_derivative) + 1]\n",
    "\n",
    "print(f\"The best k value is: {best_k}\")"
   ]
  },
  {
   "cell_type": "code",
   "execution_count": 53,
   "id": "c199c0d3-53aa-4a6d-8f17-fe18693a0f3d",
   "metadata": {
    "execution": {
     "iopub.execute_input": "2024-07-15T22:17:49.451333Z",
     "iopub.status.busy": "2024-07-15T22:17:49.450330Z",
     "iopub.status.idle": "2024-07-15T22:17:49.456734Z",
     "shell.execute_reply": "2024-07-15T22:17:49.455726Z",
     "shell.execute_reply.started": "2024-07-15T22:17:49.451333Z"
    }
   },
   "outputs": [
    {
     "data": {
      "text/plain": [
       "array([-945.62137493, 1415.27022147, -535.55245164, 1133.96645026,\n",
       "        537.69998876, -526.43305747,  343.75290079, -367.73532005,\n",
       "        356.75356107,  -58.74076166,  293.04549433,  -38.48492693,\n",
       "         94.29405014,  -64.8219795 , -236.42801815,  406.31778683,\n",
       "        -12.38216286,   -6.9003073 ,  158.51960233, -326.88321829,\n",
       "        123.49272924,  -45.24127971,   23.93470729,   63.27206533,\n",
       "         38.3098782 ,  -40.02631505])"
      ]
     },
     "execution_count": 53,
     "metadata": {},
     "output_type": "execute_result"
    }
   ],
   "source": [
    "second_derivative"
   ]
  },
  {
   "cell_type": "code",
   "execution_count": 49,
   "id": "97f5275a-df4b-4017-83ad-cc825512e96c",
   "metadata": {
    "execution": {
     "iopub.execute_input": "2024-07-15T22:12:57.275102Z",
     "iopub.status.busy": "2024-07-15T22:12:57.273914Z",
     "iopub.status.idle": "2024-07-15T22:12:57.278911Z",
     "shell.execute_reply": "2024-07-15T22:12:57.278110Z",
     "shell.execute_reply.started": "2024-07-15T22:12:57.275102Z"
    }
   },
   "outputs": [],
   "source": [
    "from sklearn.metrics import silhouette_score"
   ]
  },
  {
   "cell_type": "code",
   "execution_count": 50,
   "id": "de29fcf3-3a95-4d02-a300-e3cb06f36424",
   "metadata": {
    "execution": {
     "iopub.execute_input": "2024-07-15T22:13:30.556206Z",
     "iopub.status.busy": "2024-07-15T22:13:30.555218Z",
     "iopub.status.idle": "2024-07-15T22:14:13.796894Z",
     "shell.execute_reply": "2024-07-15T22:14:13.796894Z",
     "shell.execute_reply.started": "2024-07-15T22:13:30.556206Z"
    },
    "scrolled": true
   },
   "outputs": [
    {
     "name": "stdout",
     "output_type": "stream",
     "text": [
      "For k=2, Silhouette Score: 0.17\n",
      "For k=3, Silhouette Score: 0.12\n",
      "For k=4, Silhouette Score: 0.13\n",
      "For k=5, Silhouette Score: 0.12\n",
      "For k=6, Silhouette Score: 0.13\n",
      "For k=7, Silhouette Score: 0.13\n",
      "For k=8, Silhouette Score: 0.12\n",
      "For k=9, Silhouette Score: 0.12\n",
      "For k=10, Silhouette Score: 0.13\n",
      "For k=11, Silhouette Score: 0.14\n",
      "For k=12, Silhouette Score: 0.14\n",
      "For k=13, Silhouette Score: 0.14\n",
      "For k=14, Silhouette Score: 0.14\n",
      "For k=15, Silhouette Score: 0.15\n",
      "For k=16, Silhouette Score: 0.14\n",
      "For k=17, Silhouette Score: 0.14\n",
      "For k=18, Silhouette Score: 0.15\n",
      "For k=19, Silhouette Score: 0.15\n",
      "For k=20, Silhouette Score: 0.15\n",
      "For k=21, Silhouette Score: 0.15\n",
      "For k=22, Silhouette Score: 0.15\n",
      "For k=23, Silhouette Score: 0.15\n",
      "For k=24, Silhouette Score: 0.15\n",
      "For k=25, Silhouette Score: 0.16\n",
      "For k=26, Silhouette Score: 0.16\n",
      "For k=27, Silhouette Score: 0.16\n",
      "For k=28, Silhouette Score: 0.17\n",
      "For k=29, Silhouette Score: 0.17\n",
      "For k=30, Silhouette Score: 0.17\n",
      "Best k: 2 (Silhouette Score: 0.17)\n"
     ]
    }
   ],
   "source": [
    "max_k = 30  # Set a reasonable upper limit for k\n",
    "\n",
    "best_k = None\n",
    "best_silhouette_score = -1\n",
    "\n",
    "for k in range(2, max_k + 1):\n",
    "    kmeans = KMeans(n_clusters=k, random_state=42)\n",
    "    labels = kmeans.fit_predict(X)\n",
    "    silhouette_avg = silhouette_score(X, labels)\n",
    "    print(f\"For k={k}, Silhouette Score: {silhouette_avg:.2f}\")\n",
    "    if silhouette_avg > best_silhouette_score:\n",
    "        best_silhouette_score = silhouette_avg\n",
    "        best_k = k\n",
    "\n",
    "print(f\"Best k: {best_k} (Silhouette Score: {best_silhouette_score:.2f})\")"
   ]
  },
  {
   "cell_type": "code",
   "execution_count": 91,
   "id": "ffc85ab0-3a66-4643-aa4e-ca530a82d26f",
   "metadata": {
    "execution": {
     "iopub.execute_input": "2024-07-17T09:57:10.225111Z",
     "iopub.status.busy": "2024-07-17T09:57:10.224130Z",
     "iopub.status.idle": "2024-07-17T09:57:10.233899Z",
     "shell.execute_reply": "2024-07-17T09:57:10.233899Z",
     "shell.execute_reply.started": "2024-07-17T09:57:10.225111Z"
    }
   },
   "outputs": [
    {
     "name": "stdout",
     "output_type": "stream",
     "text": [
      "   Fruits           Colors\n",
      "0   Apple              Red\n",
      "1  Banana  [Yellow, Green]\n",
      "2  Orange           Orange\n",
      "3   Grape    [Purple, Red]\n",
      "\n",
      "\n",
      "   Fruits  Colors\n",
      "0   Apple     Red\n",
      "1  Banana  Yellow\n",
      "1  Banana   Green\n",
      "2  Orange  Orange\n",
      "3   Grape  Purple\n",
      "3   Grape     Red\n"
     ]
    }
   ],
   "source": [
    "# Create a DataFrame\n",
    "data = pd.DataFrame({\n",
    "    \"Fruits\": [\"Apple\", \"Banana\", \"Orange\", \"Grape\"],\n",
    "    \"Colors\": [\"Red\", [\"Yellow\", \"Green\"], \"Orange\", [\"Purple\", \"Red\"]]\n",
    "})\n",
    "\n",
    "# Print the original DataFrame\n",
    "print(data)\n",
    "\n",
    "print(\"\\n\")\n",
    "# Explode the \"Colors\" column\n",
    "data_exploded = data.explode(\"Colors\")\n",
    "\n",
    "# Print the exploded DataFrame\n",
    "print(data_exploded)"
   ]
  },
  {
   "cell_type": "markdown",
   "id": "28956341-83d0-45ce-8ec6-400f86e6169e",
   "metadata": {},
   "source": [
    "<table width=\"100%\"><tr><td bgcolor=#00BFF></td></tr></table>"
   ]
  },
  {
   "cell_type": "markdown",
   "id": "271a092f-59f3-4a2b-9d55-c2b5b19f90ce",
   "metadata": {},
   "source": [
    "<table width=\"100%\"><tr><td bgcolor=#00BFF></td></tr></table>"
   ]
  },
  {
   "cell_type": "code",
   "execution_count": 102,
   "id": "08a3c4a0-8757-4434-9ee3-ba6475c192f4",
   "metadata": {
    "execution": {
     "iopub.execute_input": "2024-07-17T18:19:55.816560Z",
     "iopub.status.busy": "2024-07-17T18:19:55.813562Z",
     "iopub.status.idle": "2024-07-17T18:19:55.879805Z",
     "shell.execute_reply": "2024-07-17T18:19:55.879805Z",
     "shell.execute_reply.started": "2024-07-17T18:19:55.816560Z"
    }
   },
   "outputs": [
    {
     "name": "stdout",
     "output_type": "stream",
     "text": [
      "<class 'pandas.core.frame.DataFrame'>\n",
      "RangeIndex: 10000 entries, 0 to 9999\n",
      "Data columns (total 14 columns):\n",
      " #   Column              Non-Null Count  Dtype \n",
      "---  ------              --------------  ----- \n",
      " 0   DayOfWeek           10000 non-null  int64 \n",
      " 1   Area ID             10000 non-null  int64 \n",
      " 2   Reporting District  10000 non-null  int64 \n",
      " 3   Victim Age          10000 non-null  int64 \n",
      " 4   Victim Sex          10000 non-null  object\n",
      " 5   Victim Descent      10000 non-null  object\n",
      " 6   Premise Code        10000 non-null  int64 \n",
      " 7   DR Number           10000 non-null  int64 \n",
      " 8   MonthOccurred       10000 non-null  int64 \n",
      " 9   HourOccurred        10000 non-null  int64 \n",
      " 10  ReportingDelay      10000 non-null  int64 \n",
      " 11  InjurySeverity      10000 non-null  object\n",
      " 12  AtIntersection      10000 non-null  object\n",
      " 13  CollisionType       10000 non-null  object\n",
      "dtypes: int64(9), object(5)\n",
      "memory usage: 1.1+ MB\n",
      "None\n"
     ]
    },
    {
     "data": {
      "text/html": [
       "<div>\n",
       "<style scoped>\n",
       "    .dataframe tbody tr th:only-of-type {\n",
       "        vertical-align: middle;\n",
       "    }\n",
       "\n",
       "    .dataframe tbody tr th {\n",
       "        vertical-align: top;\n",
       "    }\n",
       "\n",
       "    .dataframe thead th {\n",
       "        text-align: right;\n",
       "    }\n",
       "</style>\n",
       "<table border=\"1\" class=\"dataframe\">\n",
       "  <thead>\n",
       "    <tr style=\"text-align: right;\">\n",
       "      <th></th>\n",
       "      <th>DayOfWeek</th>\n",
       "      <th>Area ID</th>\n",
       "      <th>Reporting District</th>\n",
       "      <th>Victim Age</th>\n",
       "      <th>Victim Sex</th>\n",
       "      <th>Victim Descent</th>\n",
       "      <th>Premise Code</th>\n",
       "      <th>DR Number</th>\n",
       "      <th>MonthOccurred</th>\n",
       "      <th>HourOccurred</th>\n",
       "      <th>ReportingDelay</th>\n",
       "      <th>InjurySeverity</th>\n",
       "      <th>AtIntersection</th>\n",
       "      <th>CollisionType</th>\n",
       "    </tr>\n",
       "  </thead>\n",
       "  <tbody>\n",
       "    <tr>\n",
       "      <th>0</th>\n",
       "      <td>6</td>\n",
       "      <td>11</td>\n",
       "      <td>1153</td>\n",
       "      <td>37</td>\n",
       "      <td>M</td>\n",
       "      <td>H</td>\n",
       "      <td>101</td>\n",
       "      <td>231112652</td>\n",
       "      <td>8</td>\n",
       "      <td>2</td>\n",
       "      <td>0</td>\n",
       "      <td>0 - No Injury</td>\n",
       "      <td>No</td>\n",
       "      <td>Veh vs Parked Veh</td>\n",
       "    </tr>\n",
       "    <tr>\n",
       "      <th>1</th>\n",
       "      <td>5</td>\n",
       "      <td>15</td>\n",
       "      <td>1591</td>\n",
       "      <td>63</td>\n",
       "      <td>F</td>\n",
       "      <td>W</td>\n",
       "      <td>101</td>\n",
       "      <td>231513085</td>\n",
       "      <td>7</td>\n",
       "      <td>7</td>\n",
       "      <td>22</td>\n",
       "      <td>0 - No Injury</td>\n",
       "      <td>Unknown</td>\n",
       "      <td>Veh vs Veh</td>\n",
       "    </tr>\n",
       "    <tr>\n",
       "      <th>2</th>\n",
       "      <td>6</td>\n",
       "      <td>1</td>\n",
       "      <td>142</td>\n",
       "      <td>61</td>\n",
       "      <td>M</td>\n",
       "      <td>H</td>\n",
       "      <td>101</td>\n",
       "      <td>230117723</td>\n",
       "      <td>8</td>\n",
       "      <td>22</td>\n",
       "      <td>1</td>\n",
       "      <td>2 - Visible</td>\n",
       "      <td>Yes</td>\n",
       "      <td>Veh vs Veh</td>\n",
       "    </tr>\n",
       "  </tbody>\n",
       "</table>\n",
       "</div>"
      ],
      "text/plain": [
       "   DayOfWeek  Area ID  Reporting District  Victim Age Victim Sex  \\\n",
       "0          6       11                1153          37          M   \n",
       "1          5       15                1591          63          F   \n",
       "2          6        1                 142          61          M   \n",
       "\n",
       "  Victim Descent  Premise Code  DR Number  MonthOccurred  HourOccurred  \\\n",
       "0              H           101  231112652              8             2   \n",
       "1              W           101  231513085              7             7   \n",
       "2              H           101  230117723              8            22   \n",
       "\n",
       "   ReportingDelay InjurySeverity AtIntersection       CollisionType  \n",
       "0               0  0 - No Injury              No  Veh vs Parked Veh  \n",
       "1              22  0 - No Injury         Unknown         Veh vs Veh  \n",
       "2               1    2 - Visible             Yes         Veh vs Veh  "
      ]
     },
     "execution_count": 102,
     "metadata": {},
     "output_type": "execute_result"
    }
   ],
   "source": [
    "dt_df = pd.read_csv('Traffic_Collision_Data_2023_Sample10000DT.csv')\n",
    "print(dt_df.info())\n",
    "dt_df.head(3)"
   ]
  },
  {
   "cell_type": "code",
   "execution_count": 105,
   "id": "d6f0d636-b5f3-4990-b053-1a983996c0a6",
   "metadata": {
    "execution": {
     "iopub.execute_input": "2024-07-17T18:21:08.502271Z",
     "iopub.status.busy": "2024-07-17T18:21:08.502271Z",
     "iopub.status.idle": "2024-07-17T18:21:08.507854Z",
     "shell.execute_reply": "2024-07-17T18:21:08.507854Z",
     "shell.execute_reply.started": "2024-07-17T18:21:08.502271Z"
    }
   },
   "outputs": [
    {
     "data": {
      "text/plain": [
       "Index(['DayOfWeek', 'Area ID', 'Reporting District', 'Victim Age',\n",
       "       'Victim Sex', 'Victim Descent', 'Premise Code', 'DR Number',\n",
       "       'MonthOccurred', 'HourOccurred', 'ReportingDelay', 'InjurySeverity',\n",
       "       'AtIntersection ', 'CollisionType'],\n",
       "      dtype='object')"
      ]
     },
     "execution_count": 105,
     "metadata": {},
     "output_type": "execute_result"
    }
   ],
   "source": [
    "dt_df.columns"
   ]
  },
  {
   "cell_type": "code",
   "execution_count": 133,
   "id": "4d6db2c4-29a7-44e7-a8a9-d0720897bc71",
   "metadata": {
    "execution": {
     "iopub.execute_input": "2024-07-17T20:24:04.843878Z",
     "iopub.status.busy": "2024-07-17T20:24:04.843878Z",
     "iopub.status.idle": "2024-07-17T20:24:04.850789Z",
     "shell.execute_reply": "2024-07-17T20:24:04.850789Z",
     "shell.execute_reply.started": "2024-07-17T20:24:04.843878Z"
    }
   },
   "outputs": [
    {
     "name": "stdout",
     "output_type": "stream",
     "text": [
      "Area ID\n",
      "13    768\n",
      "1     634\n",
      "17    580\n",
      "19    575\n",
      "10    564\n",
      "20    552\n",
      "15    540\n",
      "7     533\n",
      "9     506\n",
      "16    504\n",
      "2     481\n",
      "8     481\n",
      "11    470\n",
      "6     436\n",
      "4     425\n",
      "14    423\n",
      "21    399\n",
      "12    383\n",
      "3     292\n",
      "18    282\n",
      "5     172\n",
      "Name: count, dtype: int64\n"
     ]
    },
    {
     "data": {
      "text/plain": [
       "21"
      ]
     },
     "execution_count": 133,
     "metadata": {},
     "output_type": "execute_result"
    }
   ],
   "source": [
    "print(dt_df['Area ID'].value_counts())\n",
    "dt_df['Area ID'].value_counts().count()"
   ]
  },
  {
   "cell_type": "code",
   "execution_count": 111,
   "id": "49e9d064-5450-4d45-ab0e-6404e3ca8d34",
   "metadata": {
    "execution": {
     "iopub.execute_input": "2024-07-17T18:25:23.485966Z",
     "iopub.status.busy": "2024-07-17T18:25:23.484952Z",
     "iopub.status.idle": "2024-07-17T18:25:23.493018Z",
     "shell.execute_reply": "2024-07-17T18:25:23.492006Z",
     "shell.execute_reply.started": "2024-07-17T18:25:23.485966Z"
    }
   },
   "outputs": [
    {
     "name": "stdout",
     "output_type": "stream",
     "text": [
      "Premise Code\n",
      "101    9430\n",
      "108     263\n",
      "102     195\n",
      "103      35\n",
      "104      24\n",
      "110      14\n",
      "105       7\n",
      "710       5\n",
      "501       5\n",
      "301       4\n",
      "116       4\n",
      "121       4\n",
      "212       3\n",
      "126       2\n",
      "406       1\n",
      "215       1\n",
      "109       1\n",
      "107       1\n",
      "707       1\n",
      "Name: count, dtype: int64\n"
     ]
    },
    {
     "data": {
      "text/plain": [
       "19"
      ]
     },
     "execution_count": 111,
     "metadata": {},
     "output_type": "execute_result"
    }
   ],
   "source": [
    "print(dt_df['Premise Code'].value_counts())\n",
    "dt_df['Premise Code'].value_counts().count()"
   ]
  },
  {
   "cell_type": "code",
   "execution_count": 115,
   "id": "2f31cf61-2b81-4750-bdf5-8262738c0b15",
   "metadata": {
    "execution": {
     "iopub.execute_input": "2024-07-17T18:26:42.307154Z",
     "iopub.status.busy": "2024-07-17T18:26:42.307154Z",
     "iopub.status.idle": "2024-07-17T18:26:42.312374Z",
     "shell.execute_reply": "2024-07-17T18:26:42.312374Z",
     "shell.execute_reply.started": "2024-07-17T18:26:42.307154Z"
    }
   },
   "outputs": [
    {
     "data": {
      "text/plain": [
       "1105"
      ]
     },
     "execution_count": 115,
     "metadata": {},
     "output_type": "execute_result"
    }
   ],
   "source": [
    "dt_df['Reporting District'].value_counts().count()"
   ]
  },
  {
   "cell_type": "code",
   "execution_count": 116,
   "id": "784f2bc3-5d20-4b1c-a599-ae3e2f1b1855",
   "metadata": {
    "execution": {
     "iopub.execute_input": "2024-07-17T18:26:44.855556Z",
     "iopub.status.busy": "2024-07-17T18:26:44.854544Z",
     "iopub.status.idle": "2024-07-17T18:26:45.522120Z",
     "shell.execute_reply": "2024-07-17T18:26:45.521613Z",
     "shell.execute_reply.started": "2024-07-17T18:26:44.855556Z"
    }
   },
   "outputs": [
    {
     "data": {
      "image/png": "[encoded data removed]",
      "text/plain": [
       "<Figure size 1000x600 with 1 Axes>"
      ]
     },
     "metadata": {},
     "output_type": "display_data"
    }
   ],
   "source": [
    "RD_counts = dt_df['Reporting District'].value_counts()[:50]\n",
    "\n",
    "plt.figure(figsize=(10, 6))\n",
    "RD_counts.plot(kind='bar', color='skyblue')\n",
    "plt.title('Victim Descent Distribution')\n",
    "plt.xlabel('Victim Descent')\n",
    "plt.ylabel('Count')\n",
    "plt.xticks(rotation=45)\n",
    "plt.grid(axis='y', linestyle='--', alpha=0.7)\n",
    "plt.tight_layout()\n",
    "plt.show()"
   ]
  },
  {
   "cell_type": "code",
   "execution_count": 119,
   "id": "349a9629-f3cf-4ded-82b8-7db344a8c626",
   "metadata": {
    "execution": {
     "iopub.execute_input": "2024-07-17T19:27:02.311755Z",
     "iopub.status.busy": "2024-07-17T19:27:02.310762Z",
     "iopub.status.idle": "2024-07-17T19:27:02.317184Z",
     "shell.execute_reply": "2024-07-17T19:27:02.317184Z",
     "shell.execute_reply.started": "2024-07-17T19:27:02.311755Z"
    }
   },
   "outputs": [
    {
     "data": {
      "text/plain": [
       "0       1153\n",
       "1       1591\n",
       "2        142\n",
       "3        246\n",
       "4        421\n",
       "        ... \n",
       "9995    1453\n",
       "9996    1492\n",
       "9997    1531\n",
       "9998     849\n",
       "9999    1795\n",
       "Name: Reporting District, Length: 10000, dtype: int64"
      ]
     },
     "execution_count": 119,
     "metadata": {},
     "output_type": "execute_result"
    }
   ],
   "source": [
    "dt_df['Reporting District']"
   ]
  },
  {
   "cell_type": "code",
   "execution_count": 127,
   "id": "49543ee5-e8d7-45f2-b607-4a990d34ee4c",
   "metadata": {
    "execution": {
     "iopub.execute_input": "2024-07-17T19:39:08.669650Z",
     "iopub.status.busy": "2024-07-17T19:39:08.669650Z",
     "iopub.status.idle": "2024-07-17T19:39:08.672434Z",
     "shell.execute_reply": "2024-07-17T19:39:08.672434Z",
     "shell.execute_reply.started": "2024-07-17T19:39:08.669650Z"
    }
   },
   "outputs": [],
   "source": [
    "data = dt_df"
   ]
  },
  {
   "cell_type": "code",
   "execution_count": 128,
   "id": "889378e3-786c-43ca-9346-dda5f7de96c5",
   "metadata": {
    "execution": {
     "iopub.execute_input": "2024-07-17T19:39:11.479487Z",
     "iopub.status.busy": "2024-07-17T19:39:11.478489Z",
     "iopub.status.idle": "2024-07-17T19:39:11.485739Z",
     "shell.execute_reply": "2024-07-17T19:39:11.485739Z",
     "shell.execute_reply.started": "2024-07-17T19:39:11.479487Z"
    }
   },
   "outputs": [],
   "source": [
    "freq_encoding = dt_df['Reporting District'].value_counts(normalize=True)\n",
    "\n",
    "# 对 Reporting District 进行频率编码\n",
    "data['Reporting District Encoded'] = data['Reporting District'].map(freq_encoding)\n",
    "\n",
    "# 删除原始的 Reporting District 列\n",
    "data = data.drop(columns=['Reporting District'])"
   ]
  },
  {
   "cell_type": "code",
   "execution_count": 132,
   "id": "3281d73f-21c7-4a1a-b560-86c44921909b",
   "metadata": {
    "execution": {
     "iopub.execute_input": "2024-07-17T19:45:18.802718Z",
     "iopub.status.busy": "2024-07-17T19:45:18.801722Z",
     "iopub.status.idle": "2024-07-17T19:45:18.806681Z",
     "shell.execute_reply": "2024-07-17T19:45:18.806681Z",
     "shell.execute_reply.started": "2024-07-17T19:45:18.802718Z"
    }
   },
   "outputs": [
    {
     "data": {
      "text/plain": [
       "44"
      ]
     },
     "execution_count": 132,
     "metadata": {},
     "output_type": "execute_result"
    }
   ],
   "source": [
    "freq_encoding.value_counts().count()"
   ]
  }
 ],
 "metadata": {
  "kernelspec": {
   "display_name": "Python 3 (ipykernel)",
   "language": "python",
   "name": "python3"
  },
  "language_info": {
   "codemirror_mode": {
    "name": "ipython",
    "version": 3
   },
   "file_extension": ".py",
   "mimetype": "text/x-python",
   "name": "python",
   "nbconvert_exporter": "python",
   "pygments_lexer": "ipython3",
   "version": "3.12.3"
  }
 },
 "nbformat": 4,
 "nbformat_minor": 5
}
